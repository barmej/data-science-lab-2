{
 "cells": [
  {
   "cell_type": "markdown",
   "metadata": {
    "colab_type": "text",
    "id": "Tv-bwjznH7ZP"
   },
   "source": [
    "<div style=\"direction:rtl;text-align:center;font-size:30px;font-weight:bold\">\n",
    "مقدمة موجزة عن مكتبة باندا    "
   ]
  },
  {
   "cell_type": "markdown",
   "metadata": {
    "colab_type": "text",
    "id": "sAJjYWewH7ZR"
   },
   "source": [
    "<p style=\"direction:rtl;text-align:right\">\n",
    "مكتبة باندا تعتبر ثاني أهم مكتبة في مجال تحليل البيانات باستخدام بايثون. تقوم مكتبة باندا بأتمتة أغلب مهمات تنظيف وتجهيز البيانات المجدولة وكذلك تصوير البيانات (او انتاج الرسوم البيانية). ولذلك يعتبر الإلمام بأساسياتها مهارة لا غنى عنها لتحليل البيانات. يمكننا القول بأن مكتبة باندا تتعامل مع البيانات بشكل يشبه إلى حد كبير جداول برنامج اكسل: حيث تكون البيانات عبارة عن بيانات مجدولة تتكون من صفوف وأعمدة (أي ثنائية الأبعاد). تتضمن المكتبة كذلك عمليات خاصة بالبيانات المتسلسلة أحادية الأبعاد كالسلاسل الزمنية. تستخدم باندا صيغتين أساسيتين للتعامل مع البيانات هما: DataFrame وهي الصيغة المستخدمة لوصف البيانات المجدولة و Series وهي الصيغة المستخدمة لوصف البيانات المتسلسلة. \n",
    "<br><br>    \n",
    "في هذا الدرس سوف نتحدث عن كيفية التعامل مع الباندا: قراءة البيانات، تلخيص البيانات، واستخدام تصوير البيانات لاكتشاف البيانات. \n",
    "<br><br>\n",
    "لاكتشاف المهمات الأساسية في مكتبة باندا، سنستخدم بيانات أسماء المواليد في أمريكا من العام 1890 إلى العام 2014، حيث يحكي هذا الجدول تاريخ تنوع أسماء المواليد في أمريكا صعوداً وهبوطاً بحسب السنة والجنس.\n",
    "<br><br>   \n",
    "الخطوة الأولى لاستخدام المكتبة هي في استدعائها عبر الأمر: import. سنقوم كذلك باستدعاء مكتبة الرسم البياني لعمل بعض الرسوم البيانية أثناء هذا الدرس بغرض الإيضاح.\n",
    "</p>"
   ]
  },
  {
   "cell_type": "code",
   "execution_count": 1,
   "metadata": {
    "colab": {},
    "colab_type": "code",
    "id": "miUDbWZeH7ZX"
   },
   "outputs": [],
   "source": [
    "import pandas as pd # استدعاء باندا\n",
    "\n",
    "\n",
    "# استدعاء مكتبات الرسم البياني\n",
    "import seaborn as sns\n",
    "import matplotlib.pyplot as plt \n",
    "%matplotlib inline  "
   ]
  },
  {
   "cell_type": "markdown",
   "metadata": {
    "colab_type": "text",
    "id": "rKwL2-wtH7Ze"
   },
   "source": [
    "<p style=\"direction:rtl;text-align:right\">\n",
    "هذا الأمر سوف يحضر مكتبة الباندا، ولكن سوف نختصر اسم المكتبة لتصبح pd فقط\n",
    "</p>"
   ]
  },
  {
   "cell_type": "markdown",
   "metadata": {
    "colab_type": "text",
    "id": "ZHKuyviqH7Zi"
   },
   "source": [
    "<p style=\"direction:rtl;text-align:right\">\n",
    "كما تحدثت قبل قليل، تنقسم البيانات في باندا إلى قسمين: جداول البيانات (DataFrame) و القوائم (Series). فماهو الفرق بين الداتا فريم والسيريس؟ الداتا فريم هو أي جدول نتعامل معه يتكون من عدة صفوف وعدة أعمدة. أما السيريس بالمقابل فهي عبارة عن عمود واحد فقط من البيانات. بعبارة أخرى، الداتا فريم هو عبارة عن مجموعة من السيريس (أو مجموعة من الأعمدة) التي يمكن أن نتعامل معها على حدة. هذا الفهم سيلخص لنا العديد من المهام القادمة.\n",
    "    </p>"
   ]
  },
  {
   "cell_type": "markdown",
   "metadata": {
    "colab_type": "text",
    "id": "Zn_ZwSahH7Zo"
   },
   "source": [
    "- DataFrame: Table, Spreadsheet [Rows + Columns]\n",
    "- Series   : One column, or series of data"
   ]
  },
  {
   "cell_type": "markdown",
   "metadata": {
    "colab_type": "text",
    "id": "Lh9UgDSUH7Zq"
   },
   "source": [
    "<p style=\"direction:rtl;text-align:right\">\n",
    "مثلاً يمكننا أن نبدأ بكتابة سيريس بسيطة. الباندا تقرأ تلقائياً أي قوائم بايثونية وتحولها إلى سيريس كما في الأمر التالي\n",
    "</p>"
   ]
  },
  {
   "cell_type": "code",
   "execution_count": 2,
   "metadata": {
    "colab": {},
    "colab_type": "code",
    "id": "08GFKejHH7Zs",
    "outputId": "4a998b05-b138-4a1f-e0c6-1a97c8419897"
   },
   "outputs": [
    {
     "data": {
      "text/plain": [
       "0       Ahmed\n",
       "1    Mohammed\n",
       "2      Khalid\n",
       "3         Ali\n",
       "dtype: object"
      ]
     },
     "execution_count": 2,
     "metadata": {},
     "output_type": "execute_result"
    }
   ],
   "source": [
    "names = ['Ahmed', 'Mohammed', 'Khalid', 'Ali']\n",
    "pd.Series(names)"
   ]
  },
  {
   "cell_type": "markdown",
   "metadata": {
    "colab_type": "text",
    "id": "CAG-F-T1H7Z2"
   },
   "source": [
    "<p style=\"direction:rtl;text-align:right\">\n",
    "هنا قامت باندا بتحويل الأسماء إلى قائمة متسلسلة (سيريس). ولكل اسم معرف محدد خاص به (اندكس) يظهر قبل كل اسم. الآن يمكننا أن نقوم بالعديد من المهام على هذه القائمة.<br /> \n",
    "    كيف نستطيع تحويل هذه القائمة إلى جدول بيانات (داتا فريم)؟ لنبدأ بإضافة خانة العمر في قائمة  مختلفة.\n",
    "    </p>"
   ]
  },
  {
   "cell_type": "code",
   "execution_count": 3,
   "metadata": {
    "colab": {},
    "colab_type": "code",
    "id": "UsVYgaAnH7Z3"
   },
   "outputs": [],
   "source": [
    "age = [10, 25, 32, 19]                     # أرقام عشوائية\n",
    "name_age_dict = {'name': names, 'age':age} # إنشاء دكشنري أولاً..\n",
    "name_age_df = pd.DataFrame(name_age_dict)"
   ]
  },
  {
   "cell_type": "code",
   "execution_count": 4,
   "metadata": {
    "colab": {},
    "colab_type": "code",
    "id": "2D8cDAzDH7Z8",
    "outputId": "c1fe6c1b-4ba7-4b1d-cfa0-103a1101b11d"
   },
   "outputs": [
    {
     "data": {
      "text/html": [
       "<div>\n",
       "<style scoped>\n",
       "    .dataframe tbody tr th:only-of-type {\n",
       "        vertical-align: middle;\n",
       "    }\n",
       "\n",
       "    .dataframe tbody tr th {\n",
       "        vertical-align: top;\n",
       "    }\n",
       "\n",
       "    .dataframe thead th {\n",
       "        text-align: right;\n",
       "    }\n",
       "</style>\n",
       "<table border=\"1\" class=\"dataframe\">\n",
       "  <thead>\n",
       "    <tr style=\"text-align: right;\">\n",
       "      <th></th>\n",
       "      <th>name</th>\n",
       "      <th>age</th>\n",
       "    </tr>\n",
       "  </thead>\n",
       "  <tbody>\n",
       "    <tr>\n",
       "      <th>0</th>\n",
       "      <td>Ahmed</td>\n",
       "      <td>10</td>\n",
       "    </tr>\n",
       "    <tr>\n",
       "      <th>1</th>\n",
       "      <td>Mohammed</td>\n",
       "      <td>25</td>\n",
       "    </tr>\n",
       "    <tr>\n",
       "      <th>2</th>\n",
       "      <td>Khalid</td>\n",
       "      <td>32</td>\n",
       "    </tr>\n",
       "    <tr>\n",
       "      <th>3</th>\n",
       "      <td>Ali</td>\n",
       "      <td>19</td>\n",
       "    </tr>\n",
       "  </tbody>\n",
       "</table>\n",
       "</div>"
      ],
      "text/plain": [
       "       name  age\n",
       "0     Ahmed   10\n",
       "1  Mohammed   25\n",
       "2    Khalid   32\n",
       "3       Ali   19"
      ]
     },
     "execution_count": 4,
     "metadata": {},
     "output_type": "execute_result"
    }
   ],
   "source": [
    "name_age_df"
   ]
  },
  {
   "cell_type": "markdown",
   "metadata": {
    "colab_type": "text",
    "id": "zwIUprC9H7aE"
   },
   "source": [
    "<p style=\"direction:rtl;text-align:right\">\n",
    "كما نرى تقوم الباندا تلقائياً بقراءة الدكشنري وتحويله إلى جدول عبارة عن مجموعة من الصفوف والأعمدة ولكل صف اندكس أو رمز خاص به وكذلك الأمر بالنسبة للأعمدة.\n",
    "</p>"
   ]
  },
  {
   "cell_type": "markdown",
   "metadata": {
    "colab_type": "text",
    "id": "P5rEYbkWH7aF"
   },
   "source": [
    "<p style=\"direction:rtl;text-align:right\">\n",
    "في الواقع، نادراً ما ستقوم بإنشاء الجداول بهذه الطريقة، بل سنقرأ جداول جاهزة دائماً من مصادر خارجية. كما في الفصل القادم. \n",
    "</p>"
   ]
  },
  {
   "cell_type": "markdown",
   "metadata": {
    "colab_type": "text",
    "id": "Ny75kOwyH7aH"
   },
   "source": [
    "<div style=\"direction:rtl;text-align:right\">\n",
    "\n",
    "# قراءة البيانات والتحقق منها\n",
    "</div>"
   ]
  },
  {
   "cell_type": "markdown",
   "metadata": {
    "colab_type": "text",
    "id": "8XwVXeSlH7aI"
   },
   "source": [
    "<p style=\"direction:rtl;text-align:right\">\n",
    "    في هذا الدرس، سنقوم بقراءة وتحليل قاعدة بيانات أسماء المواليد في أمريكا من عام 1880 إلى 2014. \n",
    "</p>"
   ]
  },
  {
   "cell_type": "markdown",
   "metadata": {
    "colab_type": "text",
    "id": "Xs6hyD8uH7aJ"
   },
   "source": [
    "<p style=\"direction:rtl;text-align:right\">\n",
    "في الأمر التالي، سنقوم بقراءة ملف خارجي (يحتوي على جدول ضخم ببيانات المواليد) وتسميته ب babynames.\n",
    "</p>"
   ]
  },
  {
   "cell_type": "code",
   "execution_count": 5,
   "metadata": {
    "colab": {},
    "colab_type": "code",
    "id": "IxPXdkYoH7aL",
    "outputId": "fcfe9441-7d61-4b97-c2e7-13f94f5a7e92"
   },
   "outputs": [
    {
     "name": "stderr",
     "output_type": "stream",
     "text": [
      "/Users/Home/anaconda/envs/rl/lib/python3.7/site-packages/numpy/lib/arraysetops.py:569: FutureWarning: elementwise comparison failed; returning scalar instead, but in the future will perform elementwise comparison\n",
      "  mask |= (ar1 == a)\n"
     ]
    }
   ],
   "source": [
    "babynames = pd.read_csv('NationalNames.csv', index_col='Id')"
   ]
  },
  {
   "cell_type": "markdown",
   "metadata": {
    "colab_type": "text",
    "id": "4pUYO0yCH7aS"
   },
   "source": [
    "<p style=\"direction:rtl;text-align:right\">\n",
    "بعد أن قامت الباندا بقراءة الملف، نحن الآن جاهزون لتنفيذ أوامر عديدة على المتغير babynames. مثلاً نريد أن نلقي نظرة على الصفوف الأولى في البيانات لأخذ انطباع عام عن شكل هذه البيانات (وهذه دائماً مهمة جداً للتأكد من قراءة البيانات بشكل صحيح).\n",
    "<p>"
   ]
  },
  {
   "cell_type": "code",
   "execution_count": 6,
   "metadata": {
    "colab": {},
    "colab_type": "code",
    "id": "DXvSS7E5H7aT",
    "outputId": "786ab281-020d-4729-b3b7-60c99380f86b"
   },
   "outputs": [
    {
     "data": {
      "text/html": [
       "<div>\n",
       "<style scoped>\n",
       "    .dataframe tbody tr th:only-of-type {\n",
       "        vertical-align: middle;\n",
       "    }\n",
       "\n",
       "    .dataframe tbody tr th {\n",
       "        vertical-align: top;\n",
       "    }\n",
       "\n",
       "    .dataframe thead th {\n",
       "        text-align: right;\n",
       "    }\n",
       "</style>\n",
       "<table border=\"1\" class=\"dataframe\">\n",
       "  <thead>\n",
       "    <tr style=\"text-align: right;\">\n",
       "      <th></th>\n",
       "      <th>Name</th>\n",
       "      <th>Year</th>\n",
       "      <th>Gender</th>\n",
       "      <th>Count</th>\n",
       "    </tr>\n",
       "    <tr>\n",
       "      <th>Id</th>\n",
       "      <th></th>\n",
       "      <th></th>\n",
       "      <th></th>\n",
       "      <th></th>\n",
       "    </tr>\n",
       "  </thead>\n",
       "  <tbody>\n",
       "    <tr>\n",
       "      <th>1</th>\n",
       "      <td>Mary</td>\n",
       "      <td>1880</td>\n",
       "      <td>F</td>\n",
       "      <td>7065</td>\n",
       "    </tr>\n",
       "    <tr>\n",
       "      <th>2</th>\n",
       "      <td>Anna</td>\n",
       "      <td>1880</td>\n",
       "      <td>F</td>\n",
       "      <td>2604</td>\n",
       "    </tr>\n",
       "    <tr>\n",
       "      <th>3</th>\n",
       "      <td>Emma</td>\n",
       "      <td>1880</td>\n",
       "      <td>F</td>\n",
       "      <td>2003</td>\n",
       "    </tr>\n",
       "    <tr>\n",
       "      <th>4</th>\n",
       "      <td>Elizabeth</td>\n",
       "      <td>1880</td>\n",
       "      <td>F</td>\n",
       "      <td>1939</td>\n",
       "    </tr>\n",
       "    <tr>\n",
       "      <th>5</th>\n",
       "      <td>Minnie</td>\n",
       "      <td>1880</td>\n",
       "      <td>F</td>\n",
       "      <td>1746</td>\n",
       "    </tr>\n",
       "  </tbody>\n",
       "</table>\n",
       "</div>"
      ],
      "text/plain": [
       "         Name  Year Gender  Count\n",
       "Id                               \n",
       "1        Mary  1880      F   7065\n",
       "2        Anna  1880      F   2604\n",
       "3        Emma  1880      F   2003\n",
       "4   Elizabeth  1880      F   1939\n",
       "5      Minnie  1880      F   1746"
      ]
     },
     "execution_count": 6,
     "metadata": {},
     "output_type": "execute_result"
    }
   ],
   "source": [
    "babynames.head()"
   ]
  },
  {
   "cell_type": "markdown",
   "metadata": {
    "colab_type": "text",
    "id": "Aexm71dLH7aa"
   },
   "source": [
    "<p style=\"direction:rtl;text-align:right\">\n",
    "ماذا نرى في الجدول السابق؟ نرى أن لدينا 5 أعمدة وهي: المعرف الخاص بكل صف، الاسم، السنة، الجنس، والعدد (أي عدد مواليد تلك السنة والجنس الذين يحملون الاسم). تبدو لنا البيانات مقروءة بشكل صحيح بما يعني أننا جاهزون للعمل مع هذه البيانات.\n",
    "    </p>"
   ]
  },
  {
   "cell_type": "markdown",
   "metadata": {
    "colab_type": "text",
    "id": "6eZzXHfIH7ab"
   },
   "source": [
    "<p style=\"direction:rtl;text-align:right\">\n",
    "مثلاً، من أولى المهام التي يجب أن نجريها هي في التأكد من نوع البيانات في كل عمود، والتأكد من حجم البيانات كذلك. لفعل ذلك، سنستخدم الأمر التالي:\n",
    "</p>"
   ]
  },
  {
   "cell_type": "code",
   "execution_count": 7,
   "metadata": {
    "colab": {},
    "colab_type": "code",
    "id": "Mexr_oSfH7ad",
    "outputId": "1bcd3c2b-57a8-44a0-9a1d-f7c70cc5ea79"
   },
   "outputs": [
    {
     "name": "stdout",
     "output_type": "stream",
     "text": [
      "<class 'pandas.core.frame.DataFrame'>\n",
      "Int64Index: 1825433 entries, 1 to 1825433\n",
      "Data columns (total 4 columns):\n",
      "Name      object\n",
      "Year      int64\n",
      "Gender    object\n",
      "Count     int64\n",
      "dtypes: int64(2), object(2)\n",
      "memory usage: 69.6+ MB\n"
     ]
    }
   ],
   "source": [
    "babynames.info()"
   ]
  },
  {
   "cell_type": "markdown",
   "metadata": {
    "colab_type": "text",
    "id": "KkwbFwiXH7cQ"
   },
   "source": [
    "<p style=\"direction:rtl;text-align:right\">\n",
    "بماذا تخبرنا النتيجة أعلاه؟ تخبرنا أن المعرف يحتوي على 1,825,433 صف. عمود الإسم، يحتوى على بيانات من نوع (object) وهي صيغة في الباندا تستخدم للبيانات النصية. وكذا الأمر بالنسبة لعمودال Gender. أما عمودي الYear و الـ Count فهي تحتوي على بيانات من نوع (int64) أي بيانات عددية. أخيراً، تشغل البيانات الحالية حيزاً من الذاكرة العشوائية قدره حوالي 70 ميغا بايت.\n",
    "</p>"
   ]
  },
  {
   "cell_type": "code",
   "execution_count": 8,
   "metadata": {
    "colab": {},
    "colab_type": "code",
    "id": "RAg3xALqH7cS",
    "outputId": "3ea3d375-ed1a-490f-9ac1-e06d2b9cd34b"
   },
   "outputs": [
    {
     "data": {
      "text/plain": [
       "(1825433, 4)"
      ]
     },
     "execution_count": 8,
     "metadata": {},
     "output_type": "execute_result"
    }
   ],
   "source": [
    "babynames.shape"
   ]
  },
  {
   "cell_type": "markdown",
   "metadata": {
    "colab_type": "text",
    "id": "YtGV0TfNH7dP"
   },
   "source": [
    "<p style=\"direction:rtl;text-align:right\">\n",
    "يقوم الأمر shape  بسرد نفس المعلومات السابقة ولكن بشكل مختصر جداً، حيث يقوم بسرد عدد الصفوف متبوعاً بعدد الأعمدة.\n",
    "</p>"
   ]
  },
  {
   "cell_type": "markdown",
   "metadata": {
    "colab_type": "text",
    "id": "zwL0XDcEH7eC"
   },
   "source": [
    "<p style=\"direction:rtl;text-align:right\">\n",
    "قبل أن نشرع في تحليل البيانات، لابد أن نتأكد أنه لا يوجد لدينا أي حقول فارغة. لحساب عدد الحقول الفارغة في كل عمود، سنقوم باستخدام الأمر is_null() متبوعا بالأمر الآخر sum() والذي سيقوم بجمع الحقول الفارغة. لاحقاً سنتعرف على هذه المهام على حدة.\n",
    "</p>"
   ]
  },
  {
   "cell_type": "code",
   "execution_count": 9,
   "metadata": {
    "colab": {},
    "colab_type": "code",
    "id": "HlicxoUgH7eF",
    "outputId": "3ce44969-b9fa-41e3-b314-412fa7f20a24"
   },
   "outputs": [
    {
     "data": {
      "text/plain": [
       "Name      0\n",
       "Year      0\n",
       "Gender    0\n",
       "Count     0\n",
       "dtype: int64"
      ]
     },
     "execution_count": 9,
     "metadata": {},
     "output_type": "execute_result"
    }
   ],
   "source": [
    "babynames.isna().sum()"
   ]
  },
  {
   "cell_type": "markdown",
   "metadata": {
    "colab_type": "text",
    "id": "k8gf65BIH7eV"
   },
   "source": [
    "<div style=\"direction:rtl;text-align:right\">\n",
    "\n",
    "# تجزئة وتحديد البيانات\n",
    "</div>"
   ]
  },
  {
   "cell_type": "markdown",
   "metadata": {
    "colab_type": "text",
    "id": "bl_eeNSwH7eW"
   },
   "source": [
    "<p style=\"direction:rtl;text-align:right\">\n",
    "العديد من المهام في تحليل البيانات تتطلب التعامل مع أعمدة محددة أو صفوف محددة، أي تجزئة البيانات. إتقان مهارة تجزئية البيانات واستدعائها بطرق مختلفة يعد خطوة مهمة في مهارة تحليل البيانات. \n",
    "<br><br>\n",
    "في باندا، هناك العديد من الطرق التي نستطيع أن نستدعي فيها عموداً محدداً او صفاً محدداً. نحتاج هذه المهمة فيما لو قررنا أن نأخذ فكرة عن عن محتويات عمود ما ولكن بشكل تفصيلي كما سنرى في السطور القادمة. قبل أن نتعرف على الوظائف، نرى في الخانة التالية طرقاً مختلفة لتحديد صفوف أو أعمدة محددة للتعامل معها. \n",
    "</p>"
   ]
  },
  {
   "cell_type": "markdown",
   "metadata": {
    "colab_type": "text",
    "id": "TdWC7NYIH7eY"
   },
   "source": [
    "1. df[col] # استدعاء عمود واحد فقط\n",
    "2. df[[col1, col2]]  # استدعاء عمودين أو أكثر <br> \n",
    "3. df.iloc[row,col] # استدعاء قيمة عمود وصف <br>\n",
    "4. df.iloc[row,:] #استدعاء صف محدد <br>\n",
    "\n",
    "5. s.iloc[] # استدعاء مجموعة قيم في الاندكس المحدد<br>\n",
    "6. s.loc[] # استدعاء مجموعة قيم في الموقع المحدد <br>"
   ]
  },
  {
   "cell_type": "markdown",
   "metadata": {
    "colab_type": "text",
    "id": "InVBRl9mH7eZ"
   },
   "source": [
    "<p style=\"direction:rtl;text-align:right\">\n",
    "كما هو موضح في النماذج أعلاه، لنقل أننا نريد أن نستدعي عمود الاسم فقط في قاعدة البيانات babynames:\n",
    "</p>"
   ]
  },
  {
   "cell_type": "code",
   "execution_count": 10,
   "metadata": {
    "colab": {},
    "colab_type": "code",
    "id": "zydERjXkH7eb",
    "outputId": "5f9ca251-5674-4838-f7fd-9e6bc871f825"
   },
   "outputs": [
    {
     "data": {
      "text/plain": [
       "Id\n",
       "1          Mary\n",
       "2          Anna\n",
       "3          Emma\n",
       "4     Elizabeth\n",
       "5        Minnie\n",
       "6      Margaret\n",
       "7           Ida\n",
       "8         Alice\n",
       "9        Bertha\n",
       "10        Sarah\n",
       "Name: Name, dtype: object"
      ]
     },
     "execution_count": 10,
     "metadata": {},
     "output_type": "execute_result"
    }
   ],
   "source": [
    "babynames['Name'][:10] # only first 10 lines"
   ]
  },
  {
   "cell_type": "markdown",
   "metadata": {
    "colab_type": "text",
    "id": "QtR91L3fH7ej"
   },
   "source": [
    "<p style=\"direction:rtl;text-align:right\">\n",
    "ولاستدعاء عدة أعمدة سنقوم بإضافة الأسماء في قائمة ومن ثم تمرير اسم القائمة (او فعل ذلك في سطر واحد فقط).\n",
    "</p>"
   ]
  },
  {
   "cell_type": "code",
   "execution_count": 11,
   "metadata": {
    "colab": {},
    "colab_type": "code",
    "id": "b61Q6ZAQH7el",
    "outputId": "ba61f54b-abc7-49da-f7a4-f3c7b12e7581"
   },
   "outputs": [
    {
     "data": {
      "text/html": [
       "<div>\n",
       "<style scoped>\n",
       "    .dataframe tbody tr th:only-of-type {\n",
       "        vertical-align: middle;\n",
       "    }\n",
       "\n",
       "    .dataframe tbody tr th {\n",
       "        vertical-align: top;\n",
       "    }\n",
       "\n",
       "    .dataframe thead th {\n",
       "        text-align: right;\n",
       "    }\n",
       "</style>\n",
       "<table border=\"1\" class=\"dataframe\">\n",
       "  <thead>\n",
       "    <tr style=\"text-align: right;\">\n",
       "      <th></th>\n",
       "      <th>Name</th>\n",
       "      <th>Gender</th>\n",
       "    </tr>\n",
       "    <tr>\n",
       "      <th>Id</th>\n",
       "      <th></th>\n",
       "      <th></th>\n",
       "    </tr>\n",
       "  </thead>\n",
       "  <tbody>\n",
       "    <tr>\n",
       "      <th>1</th>\n",
       "      <td>Mary</td>\n",
       "      <td>F</td>\n",
       "    </tr>\n",
       "    <tr>\n",
       "      <th>2</th>\n",
       "      <td>Anna</td>\n",
       "      <td>F</td>\n",
       "    </tr>\n",
       "    <tr>\n",
       "      <th>3</th>\n",
       "      <td>Emma</td>\n",
       "      <td>F</td>\n",
       "    </tr>\n",
       "    <tr>\n",
       "      <th>4</th>\n",
       "      <td>Elizabeth</td>\n",
       "      <td>F</td>\n",
       "    </tr>\n",
       "    <tr>\n",
       "      <th>5</th>\n",
       "      <td>Minnie</td>\n",
       "      <td>F</td>\n",
       "    </tr>\n",
       "    <tr>\n",
       "      <th>6</th>\n",
       "      <td>Margaret</td>\n",
       "      <td>F</td>\n",
       "    </tr>\n",
       "    <tr>\n",
       "      <th>7</th>\n",
       "      <td>Ida</td>\n",
       "      <td>F</td>\n",
       "    </tr>\n",
       "    <tr>\n",
       "      <th>8</th>\n",
       "      <td>Alice</td>\n",
       "      <td>F</td>\n",
       "    </tr>\n",
       "    <tr>\n",
       "      <th>9</th>\n",
       "      <td>Bertha</td>\n",
       "      <td>F</td>\n",
       "    </tr>\n",
       "    <tr>\n",
       "      <th>10</th>\n",
       "      <td>Sarah</td>\n",
       "      <td>F</td>\n",
       "    </tr>\n",
       "  </tbody>\n",
       "</table>\n",
       "</div>"
      ],
      "text/plain": [
       "         Name Gender\n",
       "Id                  \n",
       "1        Mary      F\n",
       "2        Anna      F\n",
       "3        Emma      F\n",
       "4   Elizabeth      F\n",
       "5      Minnie      F\n",
       "6    Margaret      F\n",
       "7         Ida      F\n",
       "8       Alice      F\n",
       "9      Bertha      F\n",
       "10      Sarah      F"
      ]
     },
     "execution_count": 11,
     "metadata": {},
     "output_type": "execute_result"
    }
   ],
   "source": [
    "cols_list = ['Name', 'Gender']\n",
    "babynames[cols_list][:10] # only first 10 lines\n",
    "\n",
    "# OR...\n",
    "#babynames[['Name', 'Gender']]"
   ]
  },
  {
   "cell_type": "markdown",
   "metadata": {
    "colab_type": "text",
    "id": "4TZdLci2H7er"
   },
   "source": [
    "<p style=\"direction:rtl;text-align:right\">\n",
    "وحين نريد أن نستدعي صفوفاً محددة سنستخدم نفس الأمر ولكن هذه المرة مع إضافة أرقام الصفوف في قائمة.\n",
    "</p>"
   ]
  },
  {
   "cell_type": "code",
   "execution_count": 12,
   "metadata": {
    "colab": {},
    "colab_type": "code",
    "id": "n5q90dErH7ey"
   },
   "outputs": [],
   "source": [
    "rows_list = [1,10,343,5463,10000]\n",
    "cols_list = ['Name', 'Year', 'Gender', 'Count']"
   ]
  },
  {
   "cell_type": "code",
   "execution_count": 13,
   "metadata": {
    "colab": {},
    "colab_type": "code",
    "id": "VS-eiIg9H7e2",
    "outputId": "6b0b7147-bc54-405a-aac9-317904e4f8ce"
   },
   "outputs": [
    {
     "data": {
      "text/html": [
       "<div>\n",
       "<style scoped>\n",
       "    .dataframe tbody tr th:only-of-type {\n",
       "        vertical-align: middle;\n",
       "    }\n",
       "\n",
       "    .dataframe tbody tr th {\n",
       "        vertical-align: top;\n",
       "    }\n",
       "\n",
       "    .dataframe thead th {\n",
       "        text-align: right;\n",
       "    }\n",
       "</style>\n",
       "<table border=\"1\" class=\"dataframe\">\n",
       "  <thead>\n",
       "    <tr style=\"text-align: right;\">\n",
       "      <th></th>\n",
       "      <th>Name</th>\n",
       "      <th>Year</th>\n",
       "      <th>Gender</th>\n",
       "      <th>Count</th>\n",
       "    </tr>\n",
       "    <tr>\n",
       "      <th>Id</th>\n",
       "      <th></th>\n",
       "      <th></th>\n",
       "      <th></th>\n",
       "      <th></th>\n",
       "    </tr>\n",
       "  </thead>\n",
       "  <tbody>\n",
       "    <tr>\n",
       "      <th>1</th>\n",
       "      <td>Mary</td>\n",
       "      <td>1880</td>\n",
       "      <td>F</td>\n",
       "      <td>7065</td>\n",
       "    </tr>\n",
       "    <tr>\n",
       "      <th>10</th>\n",
       "      <td>Sarah</td>\n",
       "      <td>1880</td>\n",
       "      <td>F</td>\n",
       "      <td>1288</td>\n",
       "    </tr>\n",
       "    <tr>\n",
       "      <th>343</th>\n",
       "      <td>Isabell</td>\n",
       "      <td>1880</td>\n",
       "      <td>F</td>\n",
       "      <td>22</td>\n",
       "    </tr>\n",
       "    <tr>\n",
       "      <th>5463</th>\n",
       "      <td>Erastus</td>\n",
       "      <td>1882</td>\n",
       "      <td>M</td>\n",
       "      <td>14</td>\n",
       "    </tr>\n",
       "    <tr>\n",
       "      <th>10000</th>\n",
       "      <td>Lindsay</td>\n",
       "      <td>1884</td>\n",
       "      <td>M</td>\n",
       "      <td>9</td>\n",
       "    </tr>\n",
       "  </tbody>\n",
       "</table>\n",
       "</div>"
      ],
      "text/plain": [
       "          Name  Year Gender  Count\n",
       "Id                                \n",
       "1         Mary  1880      F   7065\n",
       "10       Sarah  1880      F   1288\n",
       "343    Isabell  1880      F     22\n",
       "5463   Erastus  1882      M     14\n",
       "10000  Lindsay  1884      M      9"
      ]
     },
     "execution_count": 13,
     "metadata": {},
     "output_type": "execute_result"
    }
   ],
   "source": [
    "babynames.loc[rows_list, cols_list]"
   ]
  },
  {
   "cell_type": "markdown",
   "metadata": {
    "colab_type": "text",
    "id": "iDbcv5NSH7e7"
   },
   "source": [
    "<p style=\"direction:rtl;text-align:right\">\n",
    "نلاحظ في الجدول أعلاه أمرين مختلفين: الملاحظة الأولى هي أننا نستطيع استدعاء صفوف محددة وأعمدة محددة باستخدام الأمر loc. والأمر الآخر هو أننا نبدأ بقائمة الصفوف أولى، ثم قائمة الأعمدة. لاحظ أنه في حال أردنا استدعاء جميع الصفوف أو جميع الأعمدة، فبالإمكان تجاهل قائمة الأعمدة وجعل المكان فارغاً كما في المثال التالي:\n",
    "</p>"
   ]
  },
  {
   "cell_type": "code",
   "execution_count": 14,
   "metadata": {
    "colab": {},
    "colab_type": "code",
    "id": "E2n2hj_wH7e8",
    "outputId": "2aceba13-95a3-4f10-96ec-d4a598d2738e"
   },
   "outputs": [
    {
     "data": {
      "text/html": [
       "<div>\n",
       "<style scoped>\n",
       "    .dataframe tbody tr th:only-of-type {\n",
       "        vertical-align: middle;\n",
       "    }\n",
       "\n",
       "    .dataframe tbody tr th {\n",
       "        vertical-align: top;\n",
       "    }\n",
       "\n",
       "    .dataframe thead th {\n",
       "        text-align: right;\n",
       "    }\n",
       "</style>\n",
       "<table border=\"1\" class=\"dataframe\">\n",
       "  <thead>\n",
       "    <tr style=\"text-align: right;\">\n",
       "      <th></th>\n",
       "      <th>Name</th>\n",
       "      <th>Year</th>\n",
       "      <th>Gender</th>\n",
       "      <th>Count</th>\n",
       "    </tr>\n",
       "    <tr>\n",
       "      <th>Id</th>\n",
       "      <th></th>\n",
       "      <th></th>\n",
       "      <th></th>\n",
       "      <th></th>\n",
       "    </tr>\n",
       "  </thead>\n",
       "  <tbody>\n",
       "    <tr>\n",
       "      <th>1</th>\n",
       "      <td>Mary</td>\n",
       "      <td>1880</td>\n",
       "      <td>F</td>\n",
       "      <td>7065</td>\n",
       "    </tr>\n",
       "    <tr>\n",
       "      <th>10</th>\n",
       "      <td>Sarah</td>\n",
       "      <td>1880</td>\n",
       "      <td>F</td>\n",
       "      <td>1288</td>\n",
       "    </tr>\n",
       "    <tr>\n",
       "      <th>343</th>\n",
       "      <td>Isabell</td>\n",
       "      <td>1880</td>\n",
       "      <td>F</td>\n",
       "      <td>22</td>\n",
       "    </tr>\n",
       "    <tr>\n",
       "      <th>5463</th>\n",
       "      <td>Erastus</td>\n",
       "      <td>1882</td>\n",
       "      <td>M</td>\n",
       "      <td>14</td>\n",
       "    </tr>\n",
       "    <tr>\n",
       "      <th>10000</th>\n",
       "      <td>Lindsay</td>\n",
       "      <td>1884</td>\n",
       "      <td>M</td>\n",
       "      <td>9</td>\n",
       "    </tr>\n",
       "  </tbody>\n",
       "</table>\n",
       "</div>"
      ],
      "text/plain": [
       "          Name  Year Gender  Count\n",
       "Id                                \n",
       "1         Mary  1880      F   7065\n",
       "10       Sarah  1880      F   1288\n",
       "343    Isabell  1880      F     22\n",
       "5463   Erastus  1882      M     14\n",
       "10000  Lindsay  1884      M      9"
      ]
     },
     "execution_count": 14,
     "metadata": {},
     "output_type": "execute_result"
    }
   ],
   "source": [
    "babynames.loc[rows_list,:] \n",
    "#babynames.loc[rows_list,]\n",
    "#babynames.loc[rows_list]"
   ]
  },
  {
   "cell_type": "markdown",
   "metadata": {
    "colab_type": "text",
    "id": "LjL32mRGH7fC"
   },
   "source": [
    "<p style=\"direction:rtl;text-align:right\">\n",
    "جميع الأوامر الثلاثة في الخانة السابقة ستعطي نفس النتيجة، وهي استدعاء جميع الأعمدة لقائمة الصفوف المحددة.\n",
    "</p>"
   ]
  },
  {
   "cell_type": "markdown",
   "metadata": {
    "colab_type": "text",
    "id": "COj51iOiH7fH"
   },
   "source": [
    "<div style=\"direction:rtl;text-align:right\">\n",
    "\n",
    "# الاستدعاء الشرطي\n",
    "</div>"
   ]
  },
  {
   "cell_type": "markdown",
   "metadata": {
    "colab_type": "text",
    "id": "0_pa1NuNH7fI"
   },
   "source": [
    "<p style=\"direction:rtl;text-align:right\">\n",
    "في أغلب الحالات لن نكون بحاجة إلى استدعاء صفوف محددة بهذا الشكل، بل سنقوم بتحديد \"شرط\" ما لتحديد كل الصفوف التي تطابق الشرط. ماذا يعني ذلك؟ لنقوم في الأمر التالي بطباعة قائمة مكونة من True أو False لتحديد الصفوف التي توافق أو تخالف الشرط.\n",
    "</p>"
   ]
  },
  {
   "cell_type": "markdown",
   "metadata": {
    "colab_type": "text",
    "id": "DoBb0CM4H7fJ"
   },
   "source": [
    "<p style=\"direction:rtl;text-align:right\">\n",
    "مثلا، لتحديد الصفوف التي تزيد فيها قيمة \"Count\" عن 90000 نقوم بكتابة التالي:\n",
    "</p>"
   ]
  },
  {
   "cell_type": "code",
   "execution_count": 15,
   "metadata": {
    "colab": {},
    "colab_type": "code",
    "id": "MUJNfp43H7fK"
   },
   "outputs": [],
   "source": [
    "rows_list_90000_or_greater = babynames['Count'] >= 90000"
   ]
  },
  {
   "cell_type": "code",
   "execution_count": 16,
   "metadata": {
    "colab": {},
    "colab_type": "code",
    "id": "ELEvMbRjH7fN",
    "outputId": "22a042a5-5ea1-4609-d8d2-780eb353254e"
   },
   "outputs": [
    {
     "data": {
      "text/plain": [
       "Id\n",
       "1     False\n",
       "2     False\n",
       "3     False\n",
       "4     False\n",
       "5     False\n",
       "6     False\n",
       "7     False\n",
       "8     False\n",
       "9     False\n",
       "10    False\n",
       "Name: Count, dtype: bool"
      ]
     },
     "execution_count": 16,
     "metadata": {},
     "output_type": "execute_result"
    }
   ],
   "source": [
    "rows_list_90000_or_greater[:10] # طباعة أول عشرة قيم فقط"
   ]
  },
  {
   "cell_type": "markdown",
   "metadata": {
    "colab_type": "text",
    "id": "eMrGtGraH7fV"
   },
   "source": [
    "<p style=\"direction:rtl;text-align:right\">\n",
    "نلاحظ أن جميع قيم القائمة هي إما True للصفوف التي وافقت الشرط، أو False للصفوف التي لم توافق الشرط، نستطيع استخدام هذه القائمة الثنائية لاستدعاء جميع بيانات الصفوف التي توافق الشرط:\n",
    "</p>"
   ]
  },
  {
   "cell_type": "code",
   "execution_count": 17,
   "metadata": {
    "colab": {},
    "colab_type": "code",
    "id": "QvrhBPXxH7fW",
    "outputId": "794d0de3-e803-4ea5-f3b6-203a2f13f99d",
    "scrolled": true
   },
   "outputs": [
    {
     "data": {
      "text/html": [
       "<div>\n",
       "<style scoped>\n",
       "    .dataframe tbody tr th:only-of-type {\n",
       "        vertical-align: middle;\n",
       "    }\n",
       "\n",
       "    .dataframe tbody tr th {\n",
       "        vertical-align: top;\n",
       "    }\n",
       "\n",
       "    .dataframe thead th {\n",
       "        text-align: right;\n",
       "    }\n",
       "</style>\n",
       "<table border=\"1\" class=\"dataframe\">\n",
       "  <thead>\n",
       "    <tr style=\"text-align: right;\">\n",
       "      <th></th>\n",
       "      <th>Name</th>\n",
       "      <th>Year</th>\n",
       "      <th>Gender</th>\n",
       "      <th>Count</th>\n",
       "    </tr>\n",
       "    <tr>\n",
       "      <th>Id</th>\n",
       "      <th></th>\n",
       "      <th></th>\n",
       "      <th></th>\n",
       "      <th></th>\n",
       "    </tr>\n",
       "  </thead>\n",
       "  <tbody>\n",
       "    <tr>\n",
       "      <th>431053</th>\n",
       "      <td>Linda</td>\n",
       "      <td>1947</td>\n",
       "      <td>F</td>\n",
       "      <td>99680</td>\n",
       "    </tr>\n",
       "    <tr>\n",
       "      <th>437158</th>\n",
       "      <td>James</td>\n",
       "      <td>1947</td>\n",
       "      <td>M</td>\n",
       "      <td>94755</td>\n",
       "    </tr>\n",
       "    <tr>\n",
       "      <th>437159</th>\n",
       "      <td>Robert</td>\n",
       "      <td>1947</td>\n",
       "      <td>M</td>\n",
       "      <td>91642</td>\n",
       "    </tr>\n",
       "    <tr>\n",
       "      <th>441425</th>\n",
       "      <td>Linda</td>\n",
       "      <td>1948</td>\n",
       "      <td>F</td>\n",
       "      <td>96205</td>\n",
       "    </tr>\n",
       "    <tr>\n",
       "      <th>451660</th>\n",
       "      <td>Linda</td>\n",
       "      <td>1949</td>\n",
       "      <td>F</td>\n",
       "      <td>91010</td>\n",
       "    </tr>\n",
       "    <tr>\n",
       "      <th>533140</th>\n",
       "      <td>Michael</td>\n",
       "      <td>1956</td>\n",
       "      <td>M</td>\n",
       "      <td>90633</td>\n",
       "    </tr>\n",
       "    <tr>\n",
       "      <th>544603</th>\n",
       "      <td>Michael</td>\n",
       "      <td>1957</td>\n",
       "      <td>M</td>\n",
       "      <td>92709</td>\n",
       "    </tr>\n",
       "    <tr>\n",
       "      <th>556177</th>\n",
       "      <td>Michael</td>\n",
       "      <td>1958</td>\n",
       "      <td>M</td>\n",
       "      <td>90519</td>\n",
       "    </tr>\n",
       "  </tbody>\n",
       "</table>\n",
       "</div>"
      ],
      "text/plain": [
       "           Name  Year Gender  Count\n",
       "Id                                 \n",
       "431053    Linda  1947      F  99680\n",
       "437158    James  1947      M  94755\n",
       "437159   Robert  1947      M  91642\n",
       "441425    Linda  1948      F  96205\n",
       "451660    Linda  1949      F  91010\n",
       "533140  Michael  1956      M  90633\n",
       "544603  Michael  1957      M  92709\n",
       "556177  Michael  1958      M  90519"
      ]
     },
     "execution_count": 17,
     "metadata": {},
     "output_type": "execute_result"
    }
   ],
   "source": [
    "babynames.loc[rows_list_90000_or_greater]"
   ]
  },
  {
   "cell_type": "markdown",
   "metadata": {
    "colab_type": "text",
    "id": "rCkPwLdKH7fb"
   },
   "source": [
    "<p style=\"direction:rtl;text-align:right\">\n",
    "ولمعرفة عدد الصفوف التي وافقت الشرط (أو عدد مرات الTrue في القائمة) سنقوم بطباعة الأمر التالي:\n",
    "</p>"
   ]
  },
  {
   "cell_type": "code",
   "execution_count": 18,
   "metadata": {
    "colab": {},
    "colab_type": "code",
    "id": "eljxURMTH7fc",
    "outputId": "32494611-850f-4334-a94f-49bd72ad15c2"
   },
   "outputs": [
    {
     "data": {
      "text/plain": [
       "8"
      ]
     },
     "execution_count": 18,
     "metadata": {},
     "output_type": "execute_result"
    }
   ],
   "source": [
    "rows_list_90000_or_greater.sum()"
   ]
  },
  {
   "cell_type": "markdown",
   "metadata": {
    "colab_type": "text",
    "id": "KQGgX85aH7fg"
   },
   "source": [
    "<p style=\"direction:rtl;text-align:right\">\n",
    "عند إجراء العمليات الحسابية، يقوم بايثون بتحويل كل قيمة True إلى 1 وكل قيمة False إلى 0. وهذا يعني أن مجموع القيم في هذه القائمة هو نفس عدد الصفوف التي وافقت الشرط.\n",
    "</p>"
   ]
  },
  {
   "cell_type": "markdown",
   "metadata": {
    "colab_type": "text",
    "id": "EMJuC8LsH7fh"
   },
   "source": [
    "<p style=\"direction:rtl;text-align:right\">\n",
    "لأداء نفس الأمر بطريقة مختلفة، لنستخدم الأمر value_counts في باندا والذي يستخدم مع القوائم فقط.\n",
    "</p>"
   ]
  },
  {
   "cell_type": "code",
   "execution_count": 19,
   "metadata": {
    "colab": {},
    "colab_type": "code",
    "id": "ssHFjLgQH7fi",
    "outputId": "2044b9c9-cf4b-4132-bb53-85fd553a99ab"
   },
   "outputs": [
    {
     "data": {
      "text/plain": [
       "False    1825425\n",
       "True           8\n",
       "Name: Count, dtype: int64"
      ]
     },
     "execution_count": 19,
     "metadata": {},
     "output_type": "execute_result"
    }
   ],
   "source": [
    "rows_list_90000_or_greater.value_counts()"
   ]
  },
  {
   "cell_type": "markdown",
   "metadata": {
    "colab_type": "text",
    "id": "7bBjkaR1H7fm"
   },
   "source": [
    "<p style=\"direction:rtl;text-align:right\">\n",
    "ماذا لو كان لدينا مجموعة من الشروط؟ بكل بساطة سنقوم بطباعة الشروط بجانب بعضها البعض بإضافة رمز &. فمثلا، في القائمة التالية، سنحفظ قائمة الأسماء الأنثوية ومن ثم إضافة الشرطين.\n",
    "</p>"
   ]
  },
  {
   "cell_type": "code",
   "execution_count": 20,
   "metadata": {
    "colab": {},
    "colab_type": "code",
    "id": "WvMDChzIH7fn"
   },
   "outputs": [],
   "source": [
    "rows_list_female_names = babynames['Gender'] == 'F'"
   ]
  },
  {
   "cell_type": "code",
   "execution_count": 21,
   "metadata": {
    "colab": {},
    "colab_type": "code",
    "id": "CzIJKgTzH7fs"
   },
   "outputs": [],
   "source": [
    "rows_list_frequent_and_female = (rows_list_90000_or_greater) & (rows_list_female_names)"
   ]
  },
  {
   "cell_type": "code",
   "execution_count": 22,
   "metadata": {
    "colab": {},
    "colab_type": "code",
    "id": "2Lhl3OosH7fy",
    "outputId": "4259d043-a0eb-42cc-81e1-f69748bcc14c"
   },
   "outputs": [
    {
     "data": {
      "text/html": [
       "<div>\n",
       "<style scoped>\n",
       "    .dataframe tbody tr th:only-of-type {\n",
       "        vertical-align: middle;\n",
       "    }\n",
       "\n",
       "    .dataframe tbody tr th {\n",
       "        vertical-align: top;\n",
       "    }\n",
       "\n",
       "    .dataframe thead th {\n",
       "        text-align: right;\n",
       "    }\n",
       "</style>\n",
       "<table border=\"1\" class=\"dataframe\">\n",
       "  <thead>\n",
       "    <tr style=\"text-align: right;\">\n",
       "      <th></th>\n",
       "      <th>Name</th>\n",
       "      <th>Year</th>\n",
       "      <th>Gender</th>\n",
       "      <th>Count</th>\n",
       "    </tr>\n",
       "    <tr>\n",
       "      <th>Id</th>\n",
       "      <th></th>\n",
       "      <th></th>\n",
       "      <th></th>\n",
       "      <th></th>\n",
       "    </tr>\n",
       "  </thead>\n",
       "  <tbody>\n",
       "    <tr>\n",
       "      <th>431053</th>\n",
       "      <td>Linda</td>\n",
       "      <td>1947</td>\n",
       "      <td>F</td>\n",
       "      <td>99680</td>\n",
       "    </tr>\n",
       "    <tr>\n",
       "      <th>441425</th>\n",
       "      <td>Linda</td>\n",
       "      <td>1948</td>\n",
       "      <td>F</td>\n",
       "      <td>96205</td>\n",
       "    </tr>\n",
       "    <tr>\n",
       "      <th>451660</th>\n",
       "      <td>Linda</td>\n",
       "      <td>1949</td>\n",
       "      <td>F</td>\n",
       "      <td>91010</td>\n",
       "    </tr>\n",
       "  </tbody>\n",
       "</table>\n",
       "</div>"
      ],
      "text/plain": [
       "         Name  Year Gender  Count\n",
       "Id                               \n",
       "431053  Linda  1947      F  99680\n",
       "441425  Linda  1948      F  96205\n",
       "451660  Linda  1949      F  91010"
      ]
     },
     "execution_count": 22,
     "metadata": {},
     "output_type": "execute_result"
    }
   ],
   "source": [
    "babynames[rows_list_frequent_and_female]\n",
    "#babynames[(rows_list_90000_or_greater) & (rows_list_female_names)]\n",
    "#babynames[(babynames['Count'] >= 90000) & (babynames['Gender'] == 'F')]"
   ]
  },
  {
   "cell_type": "markdown",
   "metadata": {
    "colab_type": "text",
    "id": "nB7BPvDUH7f4"
   },
   "source": [
    "<p style=\"direction:rtl;text-align:right\">\n",
    "كما يمكن رؤية الطرق المختلفة لطباعة الأمر السابق.\n",
    "</p>"
   ]
  },
  {
   "cell_type": "markdown",
   "metadata": {
    "colab_type": "text",
    "id": "e6q-MlM5H7f5"
   },
   "source": [
    "<p style=\"direction:rtl;text-align:right\">\n",
    "وبهذا الشكل نستطيع إجراء الكثير من عمليات التحديد: تحديد عمود أو مجموعة أعمدة، تحديد صف أو مجموعة صفوف، تحديد مجموعة أعمدة مع مجموعة صفوف، وأخيراً التحديد الشرطي للصفوف التي توافق شروطاً محددة.\n",
    "</p>"
   ]
  },
  {
   "cell_type": "markdown",
   "metadata": {
    "colab_type": "text",
    "id": "Q0s9IE6wH7f9"
   },
   "source": [
    "<div style=\"direction:rtl;text-align:right\">\n",
    "\n",
    "# الأوامر المتسلسلة"
   ]
  },
  {
   "cell_type": "markdown",
   "metadata": {
    "colab_type": "text",
    "id": "I4FaCkicH7f-"
   },
   "source": [
    "<p style=\"direction:rtl;text-align:right\">\n",
    "في الأوامر السابقة، اجرينا العديد من المهام لتحديد صفوف محددة أو أعمدة محددة. جميع هذه الأوامر تعطينا في المقابل إما داتا فريم أو سيريس. وبالتالي، نستطيع إجراء نفس الأوامر التي نجريها على الصفوف أو الأعمدة. مثلاً، لطباعة المتوسط الحسابي لعمود ما، سنقوم بإضافة الأمر mean() بعد الداتا فريم أو السيريس:\n",
    "</p>"
   ]
  },
  {
   "cell_type": "code",
   "execution_count": 24,
   "metadata": {
    "colab": {},
    "colab_type": "code",
    "id": "FdhuWEIiH7f-",
    "outputId": "4f749de4-8f2f-4c85-905d-7120f316697f"
   },
   "outputs": [
    {
     "data": {
      "text/plain": [
       "184.68792116719703"
      ]
     },
     "execution_count": 24,
     "metadata": {},
     "output_type": "execute_result"
    }
   ],
   "source": [
    "babynames['Count'].mean()"
   ]
  },
  {
   "cell_type": "markdown",
   "metadata": {
    "colab_type": "text",
    "id": "Arm1qz0wH7gE"
   },
   "source": [
    "<p style=\"direction:rtl;text-align:right\">\n",
    "كما نستطيع أيضاً استخدام ذات الأمر مع مجموعة جزئية. فمثلاً لمعرفة متوسط قائمة الأسماء بحسب الجنس سنقوم أولا بتحديد عدد الأسماء للذكور وحساب المتوسط، ثم نفعل ذات الأمر مع الإناث\n",
    "</p>"
   ]
  },
  {
   "cell_type": "code",
   "execution_count": 25,
   "metadata": {
    "colab": {},
    "colab_type": "code",
    "id": "R04mRF8sH7gF",
    "outputId": "860c5d94-8acb-462a-bafc-07d6a687ef6f"
   },
   "outputs": [
    {
     "data": {
      "text/plain": [
       "228.6587549579832"
      ]
     },
     "execution_count": 25,
     "metadata": {},
     "output_type": "execute_result"
    }
   ],
   "source": [
    "babynames['Count'][babynames['Gender']=='M'].mean()\n",
    "#babynames.loc[babynames['Gender']=='M', 'Count'].mean()"
   ]
  },
  {
   "cell_type": "code",
   "execution_count": 26,
   "metadata": {
    "colab": {},
    "colab_type": "code",
    "id": "x2kRhZj_H7gK",
    "outputId": "0cb617f8-83c3-4b2e-866d-8b7353d4534a"
   },
   "outputs": [
    {
     "data": {
      "text/plain": [
       "154.4541949905841"
      ]
     },
     "execution_count": 26,
     "metadata": {},
     "output_type": "execute_result"
    }
   ],
   "source": [
    "babynames['Count'][babynames['Gender']=='F'].mean()\n",
    "#babynames.loc[babynames['Gender']=='F', 'Count'].mean()"
   ]
  },
  {
   "cell_type": "markdown",
   "metadata": {
    "colab_type": "text",
    "id": "4ZdzCFl5H7gS"
   },
   "source": [
    "<p style=\"direction:rtl;text-align:right\">\n",
    "وهكذا نستطيع أن نرى أن متوسط المرات التي يسمى فيها بأي اسم معين خلال أكثر من مئة وعشرين سنة هي حوالي 185 مرة. لكن هذا المتوسط الكلي الذي يشمل الذكور والإناث. حيث أن متوسط عدد الأسماء الذكورية هو 228 بينما متوسط عدد الأسماء الأنثوية فهو 154 مرة. \n",
    "</p>"
   ]
  },
  {
   "cell_type": "markdown",
   "metadata": {
    "colab_type": "text",
    "id": "byYGco9tH7gU"
   },
   "source": [
    "<p style=\"direction:rtl;text-align:right\">\n",
    "لفهم هذه الأعداد بشكل أفضل، ربما نحن بحاجة إلى معرفة عدد أسماء الذكور والإناث على حدة. سنقوم في البداية باستخراج قائمة شرطية بالأسماء الذكورية، ثم نجري عملية sum لمعرفة عدد الصفوف التي وافقت الشرط. الطريقة الأخرى نصل إلى ذات النتيجة ولكن باستخدام الأمر value_counts\n",
    "</p>"
   ]
  },
  {
   "cell_type": "code",
   "execution_count": 27,
   "metadata": {
    "colab": {},
    "colab_type": "code",
    "id": "WTo6WhEIH7gY",
    "outputId": "b369f447-c02a-4f24-bd4b-761536418ad4"
   },
   "outputs": [
    {
     "data": {
      "text/plain": [
       "743750"
      ]
     },
     "execution_count": 27,
     "metadata": {},
     "output_type": "execute_result"
    }
   ],
   "source": [
    "(babynames['Gender'] == 'M').sum()"
   ]
  },
  {
   "cell_type": "code",
   "execution_count": 28,
   "metadata": {
    "colab": {},
    "colab_type": "code",
    "id": "VSMXt4_AH7gc",
    "outputId": "e522fb4d-6aa3-4f1f-a743-85a2bdce0232"
   },
   "outputs": [
    {
     "data": {
      "text/plain": [
       "1081683"
      ]
     },
     "execution_count": 28,
     "metadata": {},
     "output_type": "execute_result"
    }
   ],
   "source": [
    "(babynames['Gender'] == 'F').sum()"
   ]
  },
  {
   "cell_type": "code",
   "execution_count": 29,
   "metadata": {
    "colab": {},
    "colab_type": "code",
    "id": "nDuoh45hH7gn",
    "outputId": "df7017b8-be7b-4d15-9059-0810758c921d",
    "scrolled": true
   },
   "outputs": [
    {
     "data": {
      "text/plain": [
       "F    1081683\n",
       "M     743750\n",
       "Name: Gender, dtype: int64"
      ]
     },
     "execution_count": 29,
     "metadata": {},
     "output_type": "execute_result"
    }
   ],
   "source": [
    "babynames['Gender'].value_counts()"
   ]
  },
  {
   "cell_type": "markdown",
   "metadata": {
    "colab_type": "text",
    "id": "_A4Bc7cdH7gw"
   },
   "source": [
    "<div style=\"direction:rtl;text-align:right\">\n",
    "\n",
    "# إجراء العمليات الحسابية\n",
    "</div>"
   ]
  },
  {
   "cell_type": "markdown",
   "metadata": {
    "colab_type": "text",
    "id": "1znp45Z5H7gy"
   },
   "source": [
    "<p style=\"direction:rtl;text-align:right\">\n",
    "كما نستطيع إجراء عمليات حسابية على كل عنصر  في العمود. مثلاً، لطباعة كل عمود كنسبة مئوية، نقوم بتقسيم كل قيمة على مجموع القيم في كامل العمود، ومن ثم ضرب الناتج في 100. سنقوم بحفظ النسبة المئوية في متغير جديد اسمه CountPercentage واستعراض أول خمس قيم في هذا المتغير.\n",
    "</p>"
   ]
  },
  {
   "cell_type": "code",
   "execution_count": 31,
   "metadata": {
    "colab": {},
    "colab_type": "code",
    "id": "QrBGvcfFH7g3"
   },
   "outputs": [],
   "source": [
    "counts_series =babynames['Count']\n",
    "CountPercentage = (counts_series / counts_series.sum()) * 100"
   ]
  },
  {
   "cell_type": "markdown",
   "metadata": {
    "colab_type": "text",
    "id": "1Uum3a2TH7g6"
   },
   "source": [
    "<p style=\"direction:rtl;text-align:right\">\n",
    "لنقم بطباعة أول خمس قيم للتأكد من نجاح الأمر:\n",
    "</p>"
   ]
  },
  {
   "cell_type": "code",
   "execution_count": 32,
   "metadata": {
    "colab": {},
    "colab_type": "code",
    "id": "ad-BCppCH7g7",
    "outputId": "ef03cbfe-ef4a-42a6-f7b8-8b513e164e78"
   },
   "outputs": [
    {
     "data": {
      "text/plain": [
       "Id\n",
       "1    0.002096\n",
       "2    0.000772\n",
       "3    0.000594\n",
       "4    0.000575\n",
       "5    0.000518\n",
       "Name: Count, dtype: float64"
      ]
     },
     "execution_count": 32,
     "metadata": {},
     "output_type": "execute_result"
    }
   ],
   "source": [
    "CountPercentage[:5]  # same as      CountPercentage[0:5] "
   ]
  },
  {
   "cell_type": "markdown",
   "metadata": {
    "colab_type": "text",
    "id": "KUkq-hZIH7hA"
   },
   "source": [
    "<p style=\"direction:rtl;text-align:right\">\n",
    "كما نستطيع إنشاء أعمدة جديدة بحسب متطلبات جديدة. لنفترض مثلاً أني أريد أن أنشئ عموداً جديداً يوضح ما إن كان العام بعد 1950 أو قبله، سنقوم بكتابة التالي:\n",
    "</p>"
   ]
  },
  {
   "cell_type": "code",
   "execution_count": 33,
   "metadata": {
    "colab": {},
    "colab_type": "code",
    "id": "pQZGS07nH7hB"
   },
   "outputs": [],
   "source": [
    "babynames['After_1950'] = babynames['Year'] >= 1950"
   ]
  },
  {
   "cell_type": "code",
   "execution_count": 34,
   "metadata": {
    "colab": {},
    "colab_type": "code",
    "id": "HcAMprV_H7hI"
   },
   "outputs": [],
   "source": [
    "#كويز،  انشاء عمود اخر للكاونت\n",
    "babynames['frequent'] = babynames['Count'] > babynames['Count'].mean()"
   ]
  },
  {
   "cell_type": "code",
   "execution_count": 35,
   "metadata": {
    "colab": {},
    "colab_type": "code",
    "id": "9Tdj49iTH7hL",
    "outputId": "bdd8e51c-c15f-45a9-cba6-03d55987576c"
   },
   "outputs": [
    {
     "data": {
      "text/html": [
       "<div>\n",
       "<style scoped>\n",
       "    .dataframe tbody tr th:only-of-type {\n",
       "        vertical-align: middle;\n",
       "    }\n",
       "\n",
       "    .dataframe tbody tr th {\n",
       "        vertical-align: top;\n",
       "    }\n",
       "\n",
       "    .dataframe thead th {\n",
       "        text-align: right;\n",
       "    }\n",
       "</style>\n",
       "<table border=\"1\" class=\"dataframe\">\n",
       "  <thead>\n",
       "    <tr style=\"text-align: right;\">\n",
       "      <th></th>\n",
       "      <th>Name</th>\n",
       "      <th>Year</th>\n",
       "      <th>Gender</th>\n",
       "      <th>Count</th>\n",
       "      <th>After_1950</th>\n",
       "      <th>frequent</th>\n",
       "    </tr>\n",
       "    <tr>\n",
       "      <th>Id</th>\n",
       "      <th></th>\n",
       "      <th></th>\n",
       "      <th></th>\n",
       "      <th></th>\n",
       "      <th></th>\n",
       "      <th></th>\n",
       "    </tr>\n",
       "  </thead>\n",
       "  <tbody>\n",
       "    <tr>\n",
       "      <th>1</th>\n",
       "      <td>Mary</td>\n",
       "      <td>1880</td>\n",
       "      <td>F</td>\n",
       "      <td>7065</td>\n",
       "      <td>False</td>\n",
       "      <td>True</td>\n",
       "    </tr>\n",
       "    <tr>\n",
       "      <th>2</th>\n",
       "      <td>Anna</td>\n",
       "      <td>1880</td>\n",
       "      <td>F</td>\n",
       "      <td>2604</td>\n",
       "      <td>False</td>\n",
       "      <td>True</td>\n",
       "    </tr>\n",
       "    <tr>\n",
       "      <th>3</th>\n",
       "      <td>Emma</td>\n",
       "      <td>1880</td>\n",
       "      <td>F</td>\n",
       "      <td>2003</td>\n",
       "      <td>False</td>\n",
       "      <td>True</td>\n",
       "    </tr>\n",
       "    <tr>\n",
       "      <th>4</th>\n",
       "      <td>Elizabeth</td>\n",
       "      <td>1880</td>\n",
       "      <td>F</td>\n",
       "      <td>1939</td>\n",
       "      <td>False</td>\n",
       "      <td>True</td>\n",
       "    </tr>\n",
       "    <tr>\n",
       "      <th>5</th>\n",
       "      <td>Minnie</td>\n",
       "      <td>1880</td>\n",
       "      <td>F</td>\n",
       "      <td>1746</td>\n",
       "      <td>False</td>\n",
       "      <td>True</td>\n",
       "    </tr>\n",
       "  </tbody>\n",
       "</table>\n",
       "</div>"
      ],
      "text/plain": [
       "         Name  Year Gender  Count  After_1950  frequent\n",
       "Id                                                     \n",
       "1        Mary  1880      F   7065       False      True\n",
       "2        Anna  1880      F   2604       False      True\n",
       "3        Emma  1880      F   2003       False      True\n",
       "4   Elizabeth  1880      F   1939       False      True\n",
       "5      Minnie  1880      F   1746       False      True"
      ]
     },
     "execution_count": 35,
     "metadata": {},
     "output_type": "execute_result"
    }
   ],
   "source": [
    "babynames.head()"
   ]
  },
  {
   "cell_type": "markdown",
   "metadata": {
    "colab_type": "text",
    "id": "RPb97XcjH7hQ"
   },
   "source": [
    "\n",
    "<p style=\"direction:rtl;text-align:right\">\n",
    "كما نلاحظ، نستطيع كذلك تخزين بيانات تطابق شرطا او شروطا محددة في متغير آخر ونتعامل معه بأريحية. هذه الميزة مفيدة جداً في أغلب مهام تحليل البيانات كما سنشرح ذلك خلال هذا الدرس والدروس القادمة. في كل مرة نغير فيها البيانات، لابد أن نتأكد من حجم البيانات (عدد الأعمدة وعدد الصفوف). بما أننا حددنا عدداً من الصفوف التي توافق شرط تجاوز قيمة 500، فستكون الصفوف الجديدة أقل من صفوف البيانات الأصلية. لنفعل ذلك، نقوم باستخدام shape لطباعة عدد الصفوف متبوعاً بعدد الأعمدة.\n",
    "</p>"
   ]
  },
  {
   "cell_type": "code",
   "execution_count": 36,
   "metadata": {
    "colab": {},
    "colab_type": "code",
    "id": "YLy2eaKbH7hQ",
    "outputId": "6c083b57-8260-4c18-9759-88073a1a5aaf"
   },
   "outputs": [
    {
     "data": {
      "text/plain": [
       "F    1081683\n",
       "M     743750\n",
       "Name: Gender, dtype: int64"
      ]
     },
     "execution_count": 36,
     "metadata": {},
     "output_type": "execute_result"
    }
   ],
   "source": [
    "gender_counts = babynames['Gender'].value_counts()\n",
    "gender_counts"
   ]
  },
  {
   "cell_type": "markdown",
   "metadata": {
    "colab_type": "text",
    "id": "E1pHd7_2H7hY"
   },
   "source": [
    "<p style=\"direction:rtl;text-align:right\">\n",
    "وهذا الآن يعطينا \"سيريس\"جديدة فيها عدد كل من الميل والفيميل. كما نلاحظ، فهناك نسبة كبيرة من عدد الفيميلز، ولكن يمكن تحويلها إلى نسبة باتباع نفس الخطوات في الأمر السابق.\n",
    "</p>"
   ]
  },
  {
   "cell_type": "code",
   "execution_count": 37,
   "metadata": {
    "colab": {},
    "colab_type": "code",
    "id": "GQ6cxoFwH7hZ",
    "outputId": "66b5810e-5f00-4055-c6da-552da1212743"
   },
   "outputs": [
    {
     "data": {
      "text/plain": [
       "F    0.592562\n",
       "M    0.407438\n",
       "Name: Gender, dtype: float64"
      ]
     },
     "execution_count": 37,
     "metadata": {},
     "output_type": "execute_result"
    }
   ],
   "source": [
    "gender_counts / gender_counts.sum()"
   ]
  },
  {
   "cell_type": "code",
   "execution_count": 38,
   "metadata": {
    "colab": {},
    "colab_type": "code",
    "id": "ZIPVfMutH7he",
    "outputId": "0e5aafd8-f31b-40ee-de6e-90997c9dc784"
   },
   "outputs": [
    {
     "data": {
      "text/plain": [
       "False    0.917454\n",
       "True     0.082546\n",
       "Name: frequent, dtype: float64"
      ]
     },
     "execution_count": 38,
     "metadata": {},
     "output_type": "execute_result"
    }
   ],
   "source": [
    "babynames['frequent'].value_counts() / babynames.shape[0]"
   ]
  },
  {
   "cell_type": "markdown",
   "metadata": {
    "colab_type": "text",
    "id": "zjbt-ftQH7hi"
   },
   "source": [
    "<p style=\"direction:rtl;text-align:right\">\n",
    "كما نرى، فالإناث تقريبا ٦٠ ٪ من البيانات بينما أسماء الذكور هي ٤٠ بالمئة. لكن، نريد أن نعرف عدد المواليد بالكامل بحسب الجنس. كم هو عدد المواليد الذكور (وليس عدد الأسماء فقط) وعدد الإناث ؟ لهذا الأمر سنستخدم إحدى أقوى الأوامر في باندا والتي تميزها عن غيرها من مكتبات البيانات، ألا وهو \"قروب باي\".\n",
    "</p>"
   ]
  },
  {
   "cell_type": "markdown",
   "metadata": {
    "colab_type": "text",
    "id": "G_DzwvZHH7hi"
   },
   "source": [
    "<p style=\"direction:rtl;text-align:right\">\n",
    "لدينا أيضاً إمكانية الفلترة باستخدام أكثر من شرط. مثلاً، نريد أن يكون عدد الأسماء أكثر من 500 اسم ولكن نريد فقط بيانات بعد عام 1950. في هذه الحالة، سنضيف الشرط الآخر داخل القوس المعكوف، ونستخدم الرمز & للاشتراط.\n",
    "</p>"
   ]
  },
  {
   "cell_type": "code",
   "execution_count": 39,
   "metadata": {
    "colab": {},
    "colab_type": "code",
    "id": "bkW_dgNcH7hj",
    "outputId": "c077b5b6-51cc-4bd8-eec2-3ffb3255640d"
   },
   "outputs": [
    {
     "data": {
      "text/html": [
       "<div>\n",
       "<style scoped>\n",
       "    .dataframe tbody tr th:only-of-type {\n",
       "        vertical-align: middle;\n",
       "    }\n",
       "\n",
       "    .dataframe tbody tr th {\n",
       "        vertical-align: top;\n",
       "    }\n",
       "\n",
       "    .dataframe thead th {\n",
       "        text-align: right;\n",
       "    }\n",
       "</style>\n",
       "<table border=\"1\" class=\"dataframe\">\n",
       "  <thead>\n",
       "    <tr style=\"text-align: right;\">\n",
       "      <th></th>\n",
       "      <th>Name</th>\n",
       "      <th>Year</th>\n",
       "      <th>Gender</th>\n",
       "      <th>Count</th>\n",
       "      <th>After_1950</th>\n",
       "      <th>frequent</th>\n",
       "    </tr>\n",
       "    <tr>\n",
       "      <th>Id</th>\n",
       "      <th></th>\n",
       "      <th></th>\n",
       "      <th></th>\n",
       "      <th></th>\n",
       "      <th></th>\n",
       "      <th></th>\n",
       "    </tr>\n",
       "  </thead>\n",
       "  <tbody>\n",
       "    <tr>\n",
       "      <th>461922</th>\n",
       "      <td>Linda</td>\n",
       "      <td>1950</td>\n",
       "      <td>F</td>\n",
       "      <td>80431</td>\n",
       "      <td>True</td>\n",
       "      <td>True</td>\n",
       "    </tr>\n",
       "    <tr>\n",
       "      <th>461923</th>\n",
       "      <td>Mary</td>\n",
       "      <td>1950</td>\n",
       "      <td>F</td>\n",
       "      <td>65460</td>\n",
       "      <td>True</td>\n",
       "      <td>True</td>\n",
       "    </tr>\n",
       "    <tr>\n",
       "      <th>461924</th>\n",
       "      <td>Patricia</td>\n",
       "      <td>1950</td>\n",
       "      <td>F</td>\n",
       "      <td>47945</td>\n",
       "      <td>True</td>\n",
       "      <td>True</td>\n",
       "    </tr>\n",
       "    <tr>\n",
       "      <th>461925</th>\n",
       "      <td>Barbara</td>\n",
       "      <td>1950</td>\n",
       "      <td>F</td>\n",
       "      <td>41558</td>\n",
       "      <td>True</td>\n",
       "      <td>True</td>\n",
       "    </tr>\n",
       "    <tr>\n",
       "      <th>461926</th>\n",
       "      <td>Susan</td>\n",
       "      <td>1950</td>\n",
       "      <td>F</td>\n",
       "      <td>38022</td>\n",
       "      <td>True</td>\n",
       "      <td>True</td>\n",
       "    </tr>\n",
       "    <tr>\n",
       "      <th>461927</th>\n",
       "      <td>Nancy</td>\n",
       "      <td>1950</td>\n",
       "      <td>F</td>\n",
       "      <td>29621</td>\n",
       "      <td>True</td>\n",
       "      <td>True</td>\n",
       "    </tr>\n",
       "    <tr>\n",
       "      <th>461928</th>\n",
       "      <td>Deborah</td>\n",
       "      <td>1950</td>\n",
       "      <td>F</td>\n",
       "      <td>29071</td>\n",
       "      <td>True</td>\n",
       "      <td>True</td>\n",
       "    </tr>\n",
       "    <tr>\n",
       "      <th>461929</th>\n",
       "      <td>Sandra</td>\n",
       "      <td>1950</td>\n",
       "      <td>F</td>\n",
       "      <td>28893</td>\n",
       "      <td>True</td>\n",
       "      <td>True</td>\n",
       "    </tr>\n",
       "    <tr>\n",
       "      <th>461930</th>\n",
       "      <td>Carol</td>\n",
       "      <td>1950</td>\n",
       "      <td>F</td>\n",
       "      <td>26159</td>\n",
       "      <td>True</td>\n",
       "      <td>True</td>\n",
       "    </tr>\n",
       "    <tr>\n",
       "      <th>461931</th>\n",
       "      <td>Kathleen</td>\n",
       "      <td>1950</td>\n",
       "      <td>F</td>\n",
       "      <td>25699</td>\n",
       "      <td>True</td>\n",
       "      <td>True</td>\n",
       "    </tr>\n",
       "    <tr>\n",
       "      <th>461932</th>\n",
       "      <td>Sharon</td>\n",
       "      <td>1950</td>\n",
       "      <td>F</td>\n",
       "      <td>24611</td>\n",
       "      <td>True</td>\n",
       "      <td>True</td>\n",
       "    </tr>\n",
       "    <tr>\n",
       "      <th>461933</th>\n",
       "      <td>Karen</td>\n",
       "      <td>1950</td>\n",
       "      <td>F</td>\n",
       "      <td>24139</td>\n",
       "      <td>True</td>\n",
       "      <td>True</td>\n",
       "    </tr>\n",
       "    <tr>\n",
       "      <th>461934</th>\n",
       "      <td>Donna</td>\n",
       "      <td>1950</td>\n",
       "      <td>F</td>\n",
       "      <td>21630</td>\n",
       "      <td>True</td>\n",
       "      <td>True</td>\n",
       "    </tr>\n",
       "    <tr>\n",
       "      <th>461935</th>\n",
       "      <td>Brenda</td>\n",
       "      <td>1950</td>\n",
       "      <td>F</td>\n",
       "      <td>20793</td>\n",
       "      <td>True</td>\n",
       "      <td>True</td>\n",
       "    </tr>\n",
       "    <tr>\n",
       "      <th>461936</th>\n",
       "      <td>Margaret</td>\n",
       "      <td>1950</td>\n",
       "      <td>F</td>\n",
       "      <td>18102</td>\n",
       "      <td>True</td>\n",
       "      <td>True</td>\n",
       "    </tr>\n",
       "    <tr>\n",
       "      <th>461937</th>\n",
       "      <td>Diane</td>\n",
       "      <td>1950</td>\n",
       "      <td>F</td>\n",
       "      <td>17632</td>\n",
       "      <td>True</td>\n",
       "      <td>True</td>\n",
       "    </tr>\n",
       "    <tr>\n",
       "      <th>461938</th>\n",
       "      <td>Pamela</td>\n",
       "      <td>1950</td>\n",
       "      <td>F</td>\n",
       "      <td>16200</td>\n",
       "      <td>True</td>\n",
       "      <td>True</td>\n",
       "    </tr>\n",
       "    <tr>\n",
       "      <th>461939</th>\n",
       "      <td>Janet</td>\n",
       "      <td>1950</td>\n",
       "      <td>F</td>\n",
       "      <td>16192</td>\n",
       "      <td>True</td>\n",
       "      <td>True</td>\n",
       "    </tr>\n",
       "    <tr>\n",
       "      <th>461940</th>\n",
       "      <td>Shirley</td>\n",
       "      <td>1950</td>\n",
       "      <td>F</td>\n",
       "      <td>15893</td>\n",
       "      <td>True</td>\n",
       "      <td>True</td>\n",
       "    </tr>\n",
       "    <tr>\n",
       "      <th>461941</th>\n",
       "      <td>Carolyn</td>\n",
       "      <td>1950</td>\n",
       "      <td>F</td>\n",
       "      <td>15597</td>\n",
       "      <td>True</td>\n",
       "      <td>True</td>\n",
       "    </tr>\n",
       "    <tr>\n",
       "      <th>461942</th>\n",
       "      <td>Judith</td>\n",
       "      <td>1950</td>\n",
       "      <td>F</td>\n",
       "      <td>15359</td>\n",
       "      <td>True</td>\n",
       "      <td>True</td>\n",
       "    </tr>\n",
       "    <tr>\n",
       "      <th>461943</th>\n",
       "      <td>Janice</td>\n",
       "      <td>1950</td>\n",
       "      <td>F</td>\n",
       "      <td>15018</td>\n",
       "      <td>True</td>\n",
       "      <td>True</td>\n",
       "    </tr>\n",
       "    <tr>\n",
       "      <th>461944</th>\n",
       "      <td>Cynthia</td>\n",
       "      <td>1950</td>\n",
       "      <td>F</td>\n",
       "      <td>14449</td>\n",
       "      <td>True</td>\n",
       "      <td>True</td>\n",
       "    </tr>\n",
       "    <tr>\n",
       "      <th>461945</th>\n",
       "      <td>Elizabeth</td>\n",
       "      <td>1950</td>\n",
       "      <td>F</td>\n",
       "      <td>14343</td>\n",
       "      <td>True</td>\n",
       "      <td>True</td>\n",
       "    </tr>\n",
       "    <tr>\n",
       "      <th>461946</th>\n",
       "      <td>Judy</td>\n",
       "      <td>1950</td>\n",
       "      <td>F</td>\n",
       "      <td>14206</td>\n",
       "      <td>True</td>\n",
       "      <td>True</td>\n",
       "    </tr>\n",
       "    <tr>\n",
       "      <th>461947</th>\n",
       "      <td>Betty</td>\n",
       "      <td>1950</td>\n",
       "      <td>F</td>\n",
       "      <td>13615</td>\n",
       "      <td>True</td>\n",
       "      <td>True</td>\n",
       "    </tr>\n",
       "    <tr>\n",
       "      <th>461948</th>\n",
       "      <td>Joyce</td>\n",
       "      <td>1950</td>\n",
       "      <td>F</td>\n",
       "      <td>13417</td>\n",
       "      <td>True</td>\n",
       "      <td>True</td>\n",
       "    </tr>\n",
       "    <tr>\n",
       "      <th>461949</th>\n",
       "      <td>Christine</td>\n",
       "      <td>1950</td>\n",
       "      <td>F</td>\n",
       "      <td>12676</td>\n",
       "      <td>True</td>\n",
       "      <td>True</td>\n",
       "    </tr>\n",
       "    <tr>\n",
       "      <th>461950</th>\n",
       "      <td>Cheryl</td>\n",
       "      <td>1950</td>\n",
       "      <td>F</td>\n",
       "      <td>11823</td>\n",
       "      <td>True</td>\n",
       "      <td>True</td>\n",
       "    </tr>\n",
       "    <tr>\n",
       "      <th>461951</th>\n",
       "      <td>Gloria</td>\n",
       "      <td>1950</td>\n",
       "      <td>F</td>\n",
       "      <td>11033</td>\n",
       "      <td>True</td>\n",
       "      <td>True</td>\n",
       "    </tr>\n",
       "    <tr>\n",
       "      <th>...</th>\n",
       "      <td>...</td>\n",
       "      <td>...</td>\n",
       "      <td>...</td>\n",
       "      <td>...</td>\n",
       "      <td>...</td>\n",
       "      <td>...</td>\n",
       "    </tr>\n",
       "    <tr>\n",
       "      <th>1812484</th>\n",
       "      <td>Cormac</td>\n",
       "      <td>2014</td>\n",
       "      <td>M</td>\n",
       "      <td>195</td>\n",
       "      <td>True</td>\n",
       "      <td>True</td>\n",
       "    </tr>\n",
       "    <tr>\n",
       "      <th>1812485</th>\n",
       "      <td>Deon</td>\n",
       "      <td>2014</td>\n",
       "      <td>M</td>\n",
       "      <td>195</td>\n",
       "      <td>True</td>\n",
       "      <td>True</td>\n",
       "    </tr>\n",
       "    <tr>\n",
       "      <th>1812486</th>\n",
       "      <td>Brysen</td>\n",
       "      <td>2014</td>\n",
       "      <td>M</td>\n",
       "      <td>194</td>\n",
       "      <td>True</td>\n",
       "      <td>True</td>\n",
       "    </tr>\n",
       "    <tr>\n",
       "      <th>1812487</th>\n",
       "      <td>Cortez</td>\n",
       "      <td>2014</td>\n",
       "      <td>M</td>\n",
       "      <td>194</td>\n",
       "      <td>True</td>\n",
       "      <td>True</td>\n",
       "    </tr>\n",
       "    <tr>\n",
       "      <th>1812488</th>\n",
       "      <td>Dangelo</td>\n",
       "      <td>2014</td>\n",
       "      <td>M</td>\n",
       "      <td>194</td>\n",
       "      <td>True</td>\n",
       "      <td>True</td>\n",
       "    </tr>\n",
       "    <tr>\n",
       "      <th>1812489</th>\n",
       "      <td>Karsen</td>\n",
       "      <td>2014</td>\n",
       "      <td>M</td>\n",
       "      <td>194</td>\n",
       "      <td>True</td>\n",
       "      <td>True</td>\n",
       "    </tr>\n",
       "    <tr>\n",
       "      <th>1812490</th>\n",
       "      <td>Krish</td>\n",
       "      <td>2014</td>\n",
       "      <td>M</td>\n",
       "      <td>194</td>\n",
       "      <td>True</td>\n",
       "      <td>True</td>\n",
       "    </tr>\n",
       "    <tr>\n",
       "      <th>1812491</th>\n",
       "      <td>Boone</td>\n",
       "      <td>2014</td>\n",
       "      <td>M</td>\n",
       "      <td>193</td>\n",
       "      <td>True</td>\n",
       "      <td>True</td>\n",
       "    </tr>\n",
       "    <tr>\n",
       "      <th>1812492</th>\n",
       "      <td>Merrick</td>\n",
       "      <td>2014</td>\n",
       "      <td>M</td>\n",
       "      <td>193</td>\n",
       "      <td>True</td>\n",
       "      <td>True</td>\n",
       "    </tr>\n",
       "    <tr>\n",
       "      <th>1812493</th>\n",
       "      <td>Ralph</td>\n",
       "      <td>2014</td>\n",
       "      <td>M</td>\n",
       "      <td>193</td>\n",
       "      <td>True</td>\n",
       "      <td>True</td>\n",
       "    </tr>\n",
       "    <tr>\n",
       "      <th>1812494</th>\n",
       "      <td>Antoine</td>\n",
       "      <td>2014</td>\n",
       "      <td>M</td>\n",
       "      <td>192</td>\n",
       "      <td>True</td>\n",
       "      <td>True</td>\n",
       "    </tr>\n",
       "    <tr>\n",
       "      <th>1812495</th>\n",
       "      <td>Jorden</td>\n",
       "      <td>2014</td>\n",
       "      <td>M</td>\n",
       "      <td>192</td>\n",
       "      <td>True</td>\n",
       "      <td>True</td>\n",
       "    </tr>\n",
       "    <tr>\n",
       "      <th>1812496</th>\n",
       "      <td>Octavio</td>\n",
       "      <td>2014</td>\n",
       "      <td>M</td>\n",
       "      <td>192</td>\n",
       "      <td>True</td>\n",
       "      <td>True</td>\n",
       "    </tr>\n",
       "    <tr>\n",
       "      <th>1812497</th>\n",
       "      <td>Eliot</td>\n",
       "      <td>2014</td>\n",
       "      <td>M</td>\n",
       "      <td>191</td>\n",
       "      <td>True</td>\n",
       "      <td>True</td>\n",
       "    </tr>\n",
       "    <tr>\n",
       "      <th>1812498</th>\n",
       "      <td>Jarrett</td>\n",
       "      <td>2014</td>\n",
       "      <td>M</td>\n",
       "      <td>191</td>\n",
       "      <td>True</td>\n",
       "      <td>True</td>\n",
       "    </tr>\n",
       "    <tr>\n",
       "      <th>1812499</th>\n",
       "      <td>Tristin</td>\n",
       "      <td>2014</td>\n",
       "      <td>M</td>\n",
       "      <td>191</td>\n",
       "      <td>True</td>\n",
       "      <td>True</td>\n",
       "    </tr>\n",
       "    <tr>\n",
       "      <th>1812500</th>\n",
       "      <td>Derick</td>\n",
       "      <td>2014</td>\n",
       "      <td>M</td>\n",
       "      <td>190</td>\n",
       "      <td>True</td>\n",
       "      <td>True</td>\n",
       "    </tr>\n",
       "    <tr>\n",
       "      <th>1812501</th>\n",
       "      <td>Bishop</td>\n",
       "      <td>2014</td>\n",
       "      <td>M</td>\n",
       "      <td>189</td>\n",
       "      <td>True</td>\n",
       "      <td>True</td>\n",
       "    </tr>\n",
       "    <tr>\n",
       "      <th>1812502</th>\n",
       "      <td>Kaidyn</td>\n",
       "      <td>2014</td>\n",
       "      <td>M</td>\n",
       "      <td>189</td>\n",
       "      <td>True</td>\n",
       "      <td>True</td>\n",
       "    </tr>\n",
       "    <tr>\n",
       "      <th>1812503</th>\n",
       "      <td>Aayden</td>\n",
       "      <td>2014</td>\n",
       "      <td>M</td>\n",
       "      <td>188</td>\n",
       "      <td>True</td>\n",
       "      <td>True</td>\n",
       "    </tr>\n",
       "    <tr>\n",
       "      <th>1812504</th>\n",
       "      <td>Aditya</td>\n",
       "      <td>2014</td>\n",
       "      <td>M</td>\n",
       "      <td>188</td>\n",
       "      <td>True</td>\n",
       "      <td>True</td>\n",
       "    </tr>\n",
       "    <tr>\n",
       "      <th>1812505</th>\n",
       "      <td>Kenton</td>\n",
       "      <td>2014</td>\n",
       "      <td>M</td>\n",
       "      <td>188</td>\n",
       "      <td>True</td>\n",
       "      <td>True</td>\n",
       "    </tr>\n",
       "    <tr>\n",
       "      <th>1812506</th>\n",
       "      <td>Robin</td>\n",
       "      <td>2014</td>\n",
       "      <td>M</td>\n",
       "      <td>188</td>\n",
       "      <td>True</td>\n",
       "      <td>True</td>\n",
       "    </tr>\n",
       "    <tr>\n",
       "      <th>1812507</th>\n",
       "      <td>Shiloh</td>\n",
       "      <td>2014</td>\n",
       "      <td>M</td>\n",
       "      <td>188</td>\n",
       "      <td>True</td>\n",
       "      <td>True</td>\n",
       "    </tr>\n",
       "    <tr>\n",
       "      <th>1812508</th>\n",
       "      <td>Denver</td>\n",
       "      <td>2014</td>\n",
       "      <td>M</td>\n",
       "      <td>187</td>\n",
       "      <td>True</td>\n",
       "      <td>True</td>\n",
       "    </tr>\n",
       "    <tr>\n",
       "      <th>1812509</th>\n",
       "      <td>Kamren</td>\n",
       "      <td>2014</td>\n",
       "      <td>M</td>\n",
       "      <td>187</td>\n",
       "      <td>True</td>\n",
       "      <td>True</td>\n",
       "    </tr>\n",
       "    <tr>\n",
       "      <th>1812510</th>\n",
       "      <td>Tadeo</td>\n",
       "      <td>2014</td>\n",
       "      <td>M</td>\n",
       "      <td>187</td>\n",
       "      <td>True</td>\n",
       "      <td>True</td>\n",
       "    </tr>\n",
       "    <tr>\n",
       "      <th>1812511</th>\n",
       "      <td>Avi</td>\n",
       "      <td>2014</td>\n",
       "      <td>M</td>\n",
       "      <td>186</td>\n",
       "      <td>True</td>\n",
       "      <td>True</td>\n",
       "    </tr>\n",
       "    <tr>\n",
       "      <th>1812512</th>\n",
       "      <td>Elvis</td>\n",
       "      <td>2014</td>\n",
       "      <td>M</td>\n",
       "      <td>186</td>\n",
       "      <td>True</td>\n",
       "      <td>True</td>\n",
       "    </tr>\n",
       "    <tr>\n",
       "      <th>1812513</th>\n",
       "      <td>Maxx</td>\n",
       "      <td>2014</td>\n",
       "      <td>M</td>\n",
       "      <td>186</td>\n",
       "      <td>True</td>\n",
       "      <td>True</td>\n",
       "    </tr>\n",
       "  </tbody>\n",
       "</table>\n",
       "<p>105958 rows × 6 columns</p>\n",
       "</div>"
      ],
      "text/plain": [
       "              Name  Year Gender  Count  After_1950  frequent\n",
       "Id                                                          \n",
       "461922       Linda  1950      F  80431        True      True\n",
       "461923        Mary  1950      F  65460        True      True\n",
       "461924    Patricia  1950      F  47945        True      True\n",
       "461925     Barbara  1950      F  41558        True      True\n",
       "461926       Susan  1950      F  38022        True      True\n",
       "461927       Nancy  1950      F  29621        True      True\n",
       "461928     Deborah  1950      F  29071        True      True\n",
       "461929      Sandra  1950      F  28893        True      True\n",
       "461930       Carol  1950      F  26159        True      True\n",
       "461931    Kathleen  1950      F  25699        True      True\n",
       "461932      Sharon  1950      F  24611        True      True\n",
       "461933       Karen  1950      F  24139        True      True\n",
       "461934       Donna  1950      F  21630        True      True\n",
       "461935      Brenda  1950      F  20793        True      True\n",
       "461936    Margaret  1950      F  18102        True      True\n",
       "461937       Diane  1950      F  17632        True      True\n",
       "461938      Pamela  1950      F  16200        True      True\n",
       "461939       Janet  1950      F  16192        True      True\n",
       "461940     Shirley  1950      F  15893        True      True\n",
       "461941     Carolyn  1950      F  15597        True      True\n",
       "461942      Judith  1950      F  15359        True      True\n",
       "461943      Janice  1950      F  15018        True      True\n",
       "461944     Cynthia  1950      F  14449        True      True\n",
       "461945   Elizabeth  1950      F  14343        True      True\n",
       "461946        Judy  1950      F  14206        True      True\n",
       "461947       Betty  1950      F  13615        True      True\n",
       "461948       Joyce  1950      F  13417        True      True\n",
       "461949   Christine  1950      F  12676        True      True\n",
       "461950      Cheryl  1950      F  11823        True      True\n",
       "461951      Gloria  1950      F  11033        True      True\n",
       "...            ...   ...    ...    ...         ...       ...\n",
       "1812484     Cormac  2014      M    195        True      True\n",
       "1812485       Deon  2014      M    195        True      True\n",
       "1812486     Brysen  2014      M    194        True      True\n",
       "1812487     Cortez  2014      M    194        True      True\n",
       "1812488    Dangelo  2014      M    194        True      True\n",
       "1812489     Karsen  2014      M    194        True      True\n",
       "1812490      Krish  2014      M    194        True      True\n",
       "1812491      Boone  2014      M    193        True      True\n",
       "1812492    Merrick  2014      M    193        True      True\n",
       "1812493      Ralph  2014      M    193        True      True\n",
       "1812494    Antoine  2014      M    192        True      True\n",
       "1812495     Jorden  2014      M    192        True      True\n",
       "1812496    Octavio  2014      M    192        True      True\n",
       "1812497      Eliot  2014      M    191        True      True\n",
       "1812498    Jarrett  2014      M    191        True      True\n",
       "1812499    Tristin  2014      M    191        True      True\n",
       "1812500     Derick  2014      M    190        True      True\n",
       "1812501     Bishop  2014      M    189        True      True\n",
       "1812502     Kaidyn  2014      M    189        True      True\n",
       "1812503     Aayden  2014      M    188        True      True\n",
       "1812504     Aditya  2014      M    188        True      True\n",
       "1812505     Kenton  2014      M    188        True      True\n",
       "1812506      Robin  2014      M    188        True      True\n",
       "1812507     Shiloh  2014      M    188        True      True\n",
       "1812508     Denver  2014      M    187        True      True\n",
       "1812509     Kamren  2014      M    187        True      True\n",
       "1812510      Tadeo  2014      M    187        True      True\n",
       "1812511        Avi  2014      M    186        True      True\n",
       "1812512      Elvis  2014      M    186        True      True\n",
       "1812513       Maxx  2014      M    186        True      True\n",
       "\n",
       "[105958 rows x 6 columns]"
      ]
     },
     "execution_count": 39,
     "metadata": {},
     "output_type": "execute_result"
    }
   ],
   "source": [
    "babynames_frequent_names_after_1950 = babynames[(babynames['Count'] >= 1000) & (babynames['Year']>=1950)]\n",
    "babynames[(babynames['frequent'] & babynames['After_1950'])]"
   ]
  },
  {
   "cell_type": "code",
   "execution_count": 40,
   "metadata": {
    "colab": {},
    "colab_type": "code",
    "id": "1MSMNoBbH7ho",
    "outputId": "c1c476b0-54d1-4265-e18a-12faa2cfd67d",
    "scrolled": true
   },
   "outputs": [
    {
     "data": {
      "text/html": [
       "<div>\n",
       "<style scoped>\n",
       "    .dataframe tbody tr th:only-of-type {\n",
       "        vertical-align: middle;\n",
       "    }\n",
       "\n",
       "    .dataframe tbody tr th {\n",
       "        vertical-align: top;\n",
       "    }\n",
       "\n",
       "    .dataframe thead th {\n",
       "        text-align: right;\n",
       "    }\n",
       "</style>\n",
       "<table border=\"1\" class=\"dataframe\">\n",
       "  <thead>\n",
       "    <tr style=\"text-align: right;\">\n",
       "      <th></th>\n",
       "      <th>Name</th>\n",
       "      <th>Year</th>\n",
       "      <th>Gender</th>\n",
       "      <th>Count</th>\n",
       "      <th>After_1950</th>\n",
       "      <th>frequent</th>\n",
       "    </tr>\n",
       "    <tr>\n",
       "      <th>Id</th>\n",
       "      <th></th>\n",
       "      <th></th>\n",
       "      <th></th>\n",
       "      <th></th>\n",
       "      <th></th>\n",
       "      <th></th>\n",
       "    </tr>\n",
       "  </thead>\n",
       "  <tbody>\n",
       "    <tr>\n",
       "      <th>461922</th>\n",
       "      <td>Linda</td>\n",
       "      <td>1950</td>\n",
       "      <td>F</td>\n",
       "      <td>80431</td>\n",
       "      <td>True</td>\n",
       "      <td>True</td>\n",
       "    </tr>\n",
       "    <tr>\n",
       "      <th>461923</th>\n",
       "      <td>Mary</td>\n",
       "      <td>1950</td>\n",
       "      <td>F</td>\n",
       "      <td>65460</td>\n",
       "      <td>True</td>\n",
       "      <td>True</td>\n",
       "    </tr>\n",
       "    <tr>\n",
       "      <th>461924</th>\n",
       "      <td>Patricia</td>\n",
       "      <td>1950</td>\n",
       "      <td>F</td>\n",
       "      <td>47945</td>\n",
       "      <td>True</td>\n",
       "      <td>True</td>\n",
       "    </tr>\n",
       "    <tr>\n",
       "      <th>461925</th>\n",
       "      <td>Barbara</td>\n",
       "      <td>1950</td>\n",
       "      <td>F</td>\n",
       "      <td>41558</td>\n",
       "      <td>True</td>\n",
       "      <td>True</td>\n",
       "    </tr>\n",
       "    <tr>\n",
       "      <th>461926</th>\n",
       "      <td>Susan</td>\n",
       "      <td>1950</td>\n",
       "      <td>F</td>\n",
       "      <td>38022</td>\n",
       "      <td>True</td>\n",
       "      <td>True</td>\n",
       "    </tr>\n",
       "  </tbody>\n",
       "</table>\n",
       "</div>"
      ],
      "text/plain": [
       "            Name  Year Gender  Count  After_1950  frequent\n",
       "Id                                                        \n",
       "461922     Linda  1950      F  80431        True      True\n",
       "461923      Mary  1950      F  65460        True      True\n",
       "461924  Patricia  1950      F  47945        True      True\n",
       "461925   Barbara  1950      F  41558        True      True\n",
       "461926     Susan  1950      F  38022        True      True"
      ]
     },
     "execution_count": 40,
     "metadata": {},
     "output_type": "execute_result"
    }
   ],
   "source": [
    "babynames_frequent_names_after_1950.head()"
   ]
  },
  {
   "cell_type": "code",
   "execution_count": 41,
   "metadata": {
    "colab": {},
    "colab_type": "code",
    "id": "-iEZJjDQH7ht",
    "outputId": "96f0ae7d-323e-4b08-f174-5f26e3098007",
    "scrolled": true
   },
   "outputs": [
    {
     "data": {
      "text/plain": [
       "(34883, 6)"
      ]
     },
     "execution_count": 41,
     "metadata": {},
     "output_type": "execute_result"
    }
   ],
   "source": [
    "babynames_frequent_names_after_1950.shape"
   ]
  },
  {
   "cell_type": "markdown",
   "metadata": {
    "colab_type": "text",
    "id": "7iyL8ZpnH7hw"
   },
   "source": [
    "<div style=\"direction:rtl;text-align:right\">\n",
    "\n",
    "# ترتيب الصفوف بحسب القيمة\n",
    "</div>"
   ]
  },
  {
   "cell_type": "markdown",
   "metadata": {
    "colab_type": "text",
    "id": "Lxy-ev1zH7hx"
   },
   "source": [
    "<p style=\"direction:rtl;text-align:right\">\n",
    "باندا أيضا فيها امكانية فرز الصفوف تصاعديا او تنازليا. وهذه المهمة أساسية وذلك لمعرفة حدود البيانات: ماهي القيم الكبيرة وماهي القيم الصغيرة ؟ وهل يمكن إعادة ترتيب الجدول بناء على هذه الأرقام؟ \n",
    "    <br />\n",
    "    لفرز البيانات بحسب الأسماء الأكثر اشيوعا نقوم باستخدام sort_values والتي تقوم بهذه المهمة نيابة عنا. لكن لاحظ أننا نستخدمها هنا على الجدول كاملاً ثم على العمود فقط:\n",
    "</p>"
   ]
  },
  {
   "cell_type": "code",
   "execution_count": 42,
   "metadata": {
    "colab": {},
    "colab_type": "code",
    "id": "yv4pX7ffH7hy",
    "outputId": "dd068333-b915-4d2b-dbe8-b576c8fdd85b"
   },
   "outputs": [
    {
     "data": {
      "text/html": [
       "<div>\n",
       "<style scoped>\n",
       "    .dataframe tbody tr th:only-of-type {\n",
       "        vertical-align: middle;\n",
       "    }\n",
       "\n",
       "    .dataframe tbody tr th {\n",
       "        vertical-align: top;\n",
       "    }\n",
       "\n",
       "    .dataframe thead th {\n",
       "        text-align: right;\n",
       "    }\n",
       "</style>\n",
       "<table border=\"1\" class=\"dataframe\">\n",
       "  <thead>\n",
       "    <tr style=\"text-align: right;\">\n",
       "      <th></th>\n",
       "      <th>Name</th>\n",
       "      <th>Year</th>\n",
       "      <th>Gender</th>\n",
       "      <th>Count</th>\n",
       "      <th>After_1950</th>\n",
       "      <th>frequent</th>\n",
       "    </tr>\n",
       "    <tr>\n",
       "      <th>Id</th>\n",
       "      <th></th>\n",
       "      <th></th>\n",
       "      <th></th>\n",
       "      <th></th>\n",
       "      <th></th>\n",
       "      <th></th>\n",
       "    </tr>\n",
       "  </thead>\n",
       "  <tbody>\n",
       "    <tr>\n",
       "      <th>431053</th>\n",
       "      <td>Linda</td>\n",
       "      <td>1947</td>\n",
       "      <td>F</td>\n",
       "      <td>99680</td>\n",
       "      <td>False</td>\n",
       "      <td>True</td>\n",
       "    </tr>\n",
       "    <tr>\n",
       "      <th>441425</th>\n",
       "      <td>Linda</td>\n",
       "      <td>1948</td>\n",
       "      <td>F</td>\n",
       "      <td>96205</td>\n",
       "      <td>False</td>\n",
       "      <td>True</td>\n",
       "    </tr>\n",
       "    <tr>\n",
       "      <th>437158</th>\n",
       "      <td>James</td>\n",
       "      <td>1947</td>\n",
       "      <td>M</td>\n",
       "      <td>94755</td>\n",
       "      <td>False</td>\n",
       "      <td>True</td>\n",
       "    </tr>\n",
       "    <tr>\n",
       "      <th>544603</th>\n",
       "      <td>Michael</td>\n",
       "      <td>1957</td>\n",
       "      <td>M</td>\n",
       "      <td>92709</td>\n",
       "      <td>True</td>\n",
       "      <td>True</td>\n",
       "    </tr>\n",
       "    <tr>\n",
       "      <th>437159</th>\n",
       "      <td>Robert</td>\n",
       "      <td>1947</td>\n",
       "      <td>M</td>\n",
       "      <td>91642</td>\n",
       "      <td>False</td>\n",
       "      <td>True</td>\n",
       "    </tr>\n",
       "  </tbody>\n",
       "</table>\n",
       "</div>"
      ],
      "text/plain": [
       "           Name  Year Gender  Count  After_1950  frequent\n",
       "Id                                                       \n",
       "431053    Linda  1947      F  99680       False      True\n",
       "441425    Linda  1948      F  96205       False      True\n",
       "437158    James  1947      M  94755       False      True\n",
       "544603  Michael  1957      M  92709        True      True\n",
       "437159   Robert  1947      M  91642       False      True"
      ]
     },
     "execution_count": 42,
     "metadata": {},
     "output_type": "execute_result"
    }
   ],
   "source": [
    "babynames.sort_values(by='Count', ascending=False)[:5] # print only first 5 (top values)"
   ]
  },
  {
   "cell_type": "code",
   "execution_count": 43,
   "metadata": {
    "colab": {},
    "colab_type": "code",
    "id": "E2ggwh0hH7h5",
    "outputId": "18f2d3dc-c23b-426d-9c16-d542a32e2865"
   },
   "outputs": [
    {
     "data": {
      "text/plain": [
       "Id\n",
       "431053    99680\n",
       "441425    96205\n",
       "437158    94755\n",
       "544603    92709\n",
       "437159    91642\n",
       "Name: Count, dtype: int64"
      ]
     },
     "execution_count": 43,
     "metadata": {},
     "output_type": "execute_result"
    }
   ],
   "source": [
    "#same with series\n",
    "babynames['Count'].sort_values(ascending=False)[:5]"
   ]
  },
  {
   "cell_type": "markdown",
   "metadata": {
    "colab_type": "text",
    "id": "s7fnGXZQH7h_"
   },
   "source": [
    "<p style=\"direction:rtl;text-align:right\">\n",
    "نلاحظ عدة أمور في الأمر السابق:\n",
    "<br />\n",
    "أولاً قمنا باستخدام sort_values. وداخل هذا الأمر، نقوم بتحديد العمود الذي يتم الفرز على أساسه، واختيار هل هو فرز تصاعدي أم تنازلي وذلك بتحديد قيمة ascending إلى True أو False. ثانيا، بعد الأمر، وكما هي الحال في سائر أوامر باندا، نستطيع كتابة أمر آخر ليطبق على النتيجة. في السطر أعلاه، قمنا بتحديد أول خمسة صفوف لإلقاء نظرة على رأس الجدول. كما يمكننا استخدام أمر إيجاد المتوسط الحسابي أو الحجم. \n",
    "</p>"
   ]
  },
  {
   "cell_type": "markdown",
   "metadata": {
    "colab_type": "text",
    "id": "EWCrf7OqH7iA"
   },
   "source": [
    "<div style=\"direction:rtl;text-align:right\">\n",
    "\n",
    "# عمليات التجميع\n",
    "</div>"
   ]
  },
  {
   "cell_type": "markdown",
   "metadata": {
    "colab_type": "text",
    "id": "A6C4aQFRH7iB"
   },
   "source": [
    "<p style=\"direction:rtl;text-align:right\">\n",
    "حين نتعامل مع البيانات فدائماً ما نواجه مهمة حساب قيمة معينة بالنسبة لكل صنف (مثلا جنس أو سنة). وهذا يعني أننا بحاجة إلى طريقة نستطيع بها إجراء العمليات الحسابية أو المهام البرمجية لكل صنف على حدة.\n",
    "</p>"
   ]
  },
  {
   "cell_type": "markdown",
   "metadata": {
    "colab_type": "text",
    "id": "oc9FoNVdH7iD"
   },
   "source": [
    "<p style=\"direction:rtl;text-align:right\">\n",
    "مثلاً، نريد أن نحسب متوسط عدد الأسماء ( Count ) بالنسبة لكل جنس على حدة. للقيام لذلك، سنقوم بكتابة الأمر التالي:\n",
    "</p>"
   ]
  },
  {
   "cell_type": "code",
   "execution_count": 44,
   "metadata": {
    "colab": {},
    "colab_type": "code",
    "id": "NGVhYwgPH7iE"
   },
   "outputs": [],
   "source": [
    "agg_gender_records = babynames.groupby('Gender')\n",
    "agg_gender_records_count = agg_gender_records['Count']\n",
    "agg_gender_records_mean_count = agg_gender_records_count.mean()\n",
    "\n",
    "#babynames.groupby('Gender')['Count'].mean()"
   ]
  },
  {
   "cell_type": "code",
   "execution_count": 45,
   "metadata": {
    "colab": {},
    "colab_type": "code",
    "id": "tCPe2_hfH7iH",
    "outputId": "2a174009-22c9-498d-858a-9b2063e8e3fd"
   },
   "outputs": [
    {
     "data": {
      "text/plain": [
       "Gender\n",
       "F    154.454195\n",
       "M    228.658755\n",
       "Name: Count, dtype: float64"
      ]
     },
     "execution_count": 45,
     "metadata": {},
     "output_type": "execute_result"
    }
   ],
   "source": [
    "agg_gender_records_mean_count"
   ]
  },
  {
   "cell_type": "markdown",
   "metadata": {
    "colab_type": "text",
    "id": "dbLPOvCGH7iK"
   },
   "source": [
    "<p style=\"direction:rtl;text-align:right\">\n",
    "ماذا فعلنا بالتحديد؟ في البداية قمنا بإنشاء groupby object بحيث نقوم بتعريف المتغير الذي نود تقسيم البيانات على أساسه. لنلاحظ أن عناصر هذا المتغير (مثلاً الجنس أو السنة) ستكون هي المعرفات الجديدة (اندكس) للقائمة الناتجة. وبعد ذلك، نحدد العمود أو القائمة التي نود إجراء الحسابات عليها ومن ثم نختار الأمر المرغوب.\n",
    "</p>"
   ]
  },
  {
   "cell_type": "markdown",
   "metadata": {
    "colab_type": "text",
    "id": "oONhnRCOH7iM"
   },
   "source": [
    "<p style=\"direction:rtl;text-align:right\">\n",
    "يمكننا كذلك إضافة أكثر من عنصر للتجميع. فمثلا، لو أردنا متوسط عدد الأسماء، بحسب السنة ثم بحسب الجنس. ما علينا لتنفيذ ذلك سوى كتابة التالي:\n",
    "</p>"
   ]
  },
  {
   "cell_type": "code",
   "execution_count": 46,
   "metadata": {
    "colab": {},
    "colab_type": "code",
    "id": "4QEbUygvH7iM",
    "outputId": "98ba76b0-b288-4980-da33-5b6257e979dd"
   },
   "outputs": [
    {
     "data": {
      "text/plain": [
       "Year  Gender\n",
       "1880  F          96.595541\n",
       "      M         104.433837\n",
       "1881  F          98.031983\n",
       "      M         101.048144\n",
       "1882  F         104.912451\n",
       "      M         103.446770\n",
       "1883  F         106.566414\n",
       "      M         101.581553\n",
       "1884  F         110.087031\n",
       "      M         101.728889\n",
       "1885  F         111.157059\n",
       "      M          98.268004\n",
       "1886  F         112.741810\n",
       "      M          99.805405\n",
       "1887  F         111.777948\n",
       "      M          95.045923\n",
       "1888  F         121.185210\n",
       "      M         102.678845\n",
       "1889  F         120.599053\n",
       "      M          99.535554\n",
       "1890  F         124.104954\n",
       "      M          95.628768\n",
       "1891  F         120.992825\n",
       "      M          89.792369\n",
       "1892  F         127.842264\n",
       "      M          96.854762\n",
       "1893  F         128.877724\n",
       "      M          95.264631\n",
       "1894  F         130.976498\n",
       "      M          93.439871\n",
       "                   ...    \n",
       "2000  F         102.798606\n",
       "      M         162.035009\n",
       "2001  F         100.136313\n",
       "      M         157.889467\n",
       "2002  F          99.286876\n",
       "      M         155.446350\n",
       "2003  F          99.080443\n",
       "      M         154.779137\n",
       "2004  F          97.462405\n",
       "      M         150.029812\n",
       "2005  F          96.238801\n",
       "      M         149.336802\n",
       "2006  F          94.719503\n",
       "      M         146.326608\n",
       "2007  F          93.410940\n",
       "      M         144.068623\n",
       "2008  F          92.334948\n",
       "      M         139.414556\n",
       "2009  F          90.896355\n",
       "      M         136.325022\n",
       "2010  F          89.532222\n",
       "      M         134.390211\n",
       "2011  F          89.738997\n",
       "      M         132.125759\n",
       "2012  F          90.092562\n",
       "      M         132.907569\n",
       "2013  F          90.945704\n",
       "      M         134.275121\n",
       "2014  F          92.766298\n",
       "      M         136.036059\n",
       "Name: Count, Length: 270, dtype: float64"
      ]
     },
     "execution_count": 46,
     "metadata": {},
     "output_type": "execute_result"
    }
   ],
   "source": [
    "babynames.groupby(['Year','Gender'])['Count'].mean()"
   ]
  },
  {
   "cell_type": "markdown",
   "metadata": {
    "colab_type": "text",
    "id": "BgiUrZfvH7iR"
   },
   "source": [
    "<p style=\"direction:rtl;text-align:right\">\n",
    "نرى في الأمر السابق أن متوسط العدد يتم حسابه في كل سنة وكل جنس. ولكن لنلاحظ أن المعرفات اختلفت وصارت بالسنة أولا ثم بالجنس ثانيا.\n",
    "</p>"
   ]
  },
  {
   "cell_type": "code",
   "execution_count": 47,
   "metadata": {
    "colab": {},
    "colab_type": "code",
    "id": "YAE8e8KbH7iR",
    "outputId": "3318d6be-afbc-4b99-d543-658593d4eaed",
    "scrolled": true
   },
   "outputs": [
    {
     "data": {
      "text/html": [
       "<div>\n",
       "<style scoped>\n",
       "    .dataframe tbody tr th:only-of-type {\n",
       "        vertical-align: middle;\n",
       "    }\n",
       "\n",
       "    .dataframe tbody tr th {\n",
       "        vertical-align: top;\n",
       "    }\n",
       "\n",
       "    .dataframe thead th {\n",
       "        text-align: right;\n",
       "    }\n",
       "</style>\n",
       "<table border=\"1\" class=\"dataframe\">\n",
       "  <thead>\n",
       "    <tr style=\"text-align: right;\">\n",
       "      <th></th>\n",
       "      <th></th>\n",
       "      <th>Year</th>\n",
       "      <th>Count</th>\n",
       "      <th>frequent</th>\n",
       "    </tr>\n",
       "    <tr>\n",
       "      <th>After_1950</th>\n",
       "      <th>Gender</th>\n",
       "      <th></th>\n",
       "      <th></th>\n",
       "      <th></th>\n",
       "    </tr>\n",
       "  </thead>\n",
       "  <tbody>\n",
       "    <tr>\n",
       "      <th rowspan=\"2\" valign=\"top\">False</th>\n",
       "      <th>F</th>\n",
       "      <td>1923.613286</td>\n",
       "      <td>201.321477</td>\n",
       "      <td>0.098101</td>\n",
       "    </tr>\n",
       "    <tr>\n",
       "      <th>M</th>\n",
       "      <td>1923.505643</td>\n",
       "      <td>227.928440</td>\n",
       "      <td>0.095219</td>\n",
       "    </tr>\n",
       "    <tr>\n",
       "      <th rowspan=\"2\" valign=\"top\">True</th>\n",
       "      <th>F</th>\n",
       "      <td>1988.847169</td>\n",
       "      <td>139.857882</td>\n",
       "      <td>0.072485</td>\n",
       "    </tr>\n",
       "    <tr>\n",
       "      <th>M</th>\n",
       "      <td>1989.836516</td>\n",
       "      <td>228.936730</td>\n",
       "      <td>0.085709</td>\n",
       "    </tr>\n",
       "  </tbody>\n",
       "</table>\n",
       "</div>"
      ],
      "text/plain": [
       "                          Year       Count  frequent\n",
       "After_1950 Gender                                   \n",
       "False      F       1923.613286  201.321477  0.098101\n",
       "           M       1923.505643  227.928440  0.095219\n",
       "True       F       1988.847169  139.857882  0.072485\n",
       "           M       1989.836516  228.936730  0.085709"
      ]
     },
     "execution_count": 47,
     "metadata": {},
     "output_type": "execute_result"
    }
   ],
   "source": [
    "babynames.groupby(['After_1950', 'Gender']).mean()"
   ]
  },
  {
   "cell_type": "markdown",
   "metadata": {
    "colab_type": "text",
    "id": "hWoSvjLuH7iX"
   },
   "source": [
    "<div style=\"direction:rtl;text-align:right\">\n",
    "\n",
    "# تحوير البيانات عبر Pivoting\n",
    "\n",
    "</div>"
   ]
  },
  {
   "cell_type": "markdown",
   "metadata": {
    "colab_type": "text",
    "id": "B4SeIBAnH7iY"
   },
   "source": [
    "<p style=\"direction:rtl;text-align:right\">\n",
    "لعل واحدة من أهم ميزات باندا هي القدرة على إجراء عمليات تحوير البيانات (pivoting) بشكل سلس جدا. في البداية ماذا نقصد بتحوير البيانات؟ هي عملية شبيهة بالتجميع إلى حد كبير، ولكن الناتج فيها هو جدول آخر وليس فقط قائمة (كما في الأمر السابق). هذه المرة الناتج سيكون جدول يحوي على الصفوف والأعمدة وليس قائمة طويلة.\n",
    "</p>"
   ]
  },
  {
   "cell_type": "markdown",
   "metadata": {
    "colab_type": "text",
    "id": "cz0mVq4AH7iZ"
   },
   "source": [
    "<p style=\"direction:rtl;text-align:right\">\n",
    "قارن بين ناتج الأمر السابق:\n",
    "</p>"
   ]
  },
  {
   "cell_type": "code",
   "execution_count": 48,
   "metadata": {
    "colab": {},
    "colab_type": "code",
    "id": "ZsLzmmG1H7ic",
    "outputId": "70bef343-b093-4fa3-c7c6-aa1a8e8e2454"
   },
   "outputs": [
    {
     "data": {
      "text/plain": [
       "Year  Gender\n",
       "1880  F          96.595541\n",
       "      M         104.433837\n",
       "1881  F          98.031983\n",
       "      M         101.048144\n",
       "1882  F         104.912451\n",
       "      M         103.446770\n",
       "1883  F         106.566414\n",
       "      M         101.581553\n",
       "1884  F         110.087031\n",
       "      M         101.728889\n",
       "Name: Count, dtype: float64"
      ]
     },
     "execution_count": 48,
     "metadata": {},
     "output_type": "execute_result"
    }
   ],
   "source": [
    "babynames.groupby(['Year', 'Gender'])['Count'].mean()[:10]"
   ]
  },
  {
   "cell_type": "markdown",
   "metadata": {
    "colab_type": "text",
    "id": "-TbZo6MeH7if"
   },
   "source": [
    "<p style=\"direction:rtl;text-align:right\">\n",
    "وبين الأمر التالي:\n",
    "</p>"
   ]
  },
  {
   "cell_type": "code",
   "execution_count": 49,
   "metadata": {
    "colab": {},
    "colab_type": "code",
    "id": "H7vUGRiEH7ig",
    "outputId": "0a70ec16-8299-4839-f16c-f6378c418c10",
    "scrolled": true
   },
   "outputs": [
    {
     "data": {
      "text/html": [
       "<div>\n",
       "<style scoped>\n",
       "    .dataframe tbody tr th:only-of-type {\n",
       "        vertical-align: middle;\n",
       "    }\n",
       "\n",
       "    .dataframe tbody tr th {\n",
       "        vertical-align: top;\n",
       "    }\n",
       "\n",
       "    .dataframe thead th {\n",
       "        text-align: right;\n",
       "    }\n",
       "</style>\n",
       "<table border=\"1\" class=\"dataframe\">\n",
       "  <thead>\n",
       "    <tr style=\"text-align: right;\">\n",
       "      <th>Gender</th>\n",
       "      <th>F</th>\n",
       "      <th>M</th>\n",
       "    </tr>\n",
       "    <tr>\n",
       "      <th>Year</th>\n",
       "      <th></th>\n",
       "      <th></th>\n",
       "    </tr>\n",
       "  </thead>\n",
       "  <tbody>\n",
       "    <tr>\n",
       "      <th>1880</th>\n",
       "      <td>96.595541</td>\n",
       "      <td>104.433837</td>\n",
       "    </tr>\n",
       "    <tr>\n",
       "      <th>1881</th>\n",
       "      <td>98.031983</td>\n",
       "      <td>101.048144</td>\n",
       "    </tr>\n",
       "    <tr>\n",
       "      <th>1882</th>\n",
       "      <td>104.912451</td>\n",
       "      <td>103.446770</td>\n",
       "    </tr>\n",
       "    <tr>\n",
       "      <th>1883</th>\n",
       "      <td>106.566414</td>\n",
       "      <td>101.581553</td>\n",
       "    </tr>\n",
       "    <tr>\n",
       "      <th>1884</th>\n",
       "      <td>110.087031</td>\n",
       "      <td>101.728889</td>\n",
       "    </tr>\n",
       "  </tbody>\n",
       "</table>\n",
       "</div>"
      ],
      "text/plain": [
       "Gender           F           M\n",
       "Year                          \n",
       "1880     96.595541  104.433837\n",
       "1881     98.031983  101.048144\n",
       "1882    104.912451  103.446770\n",
       "1883    106.566414  101.581553\n",
       "1884    110.087031  101.728889"
      ]
     },
     "execution_count": 49,
     "metadata": {},
     "output_type": "execute_result"
    }
   ],
   "source": [
    "babynames.pivot_table(values='Count', index='Year', columns='Gender', aggfunc='mean')[:5]"
   ]
  },
  {
   "cell_type": "markdown",
   "metadata": {
    "colab_type": "text",
    "id": "5dVCp2e_H7ij"
   },
   "source": [
    "<p style=\"direction:rtl;text-align:right\">\n",
    "هل لاحظت الفرق؟ الفرق الوحيد هو في ترتيب الناتج. ففي حين أن GroupBy ينتج عنه قائمة أخرى ولكن بتعريف مختلف للمعرف، في أمر pivot_table نجد أن الناتج هو جدول بحيث تكون فيه العناصر عبارة عن صفوف وأعمدة.\n",
    "</p>"
   ]
  },
  {
   "cell_type": "markdown",
   "metadata": {
    "colab_type": "text",
    "id": "8NHBGeMNH7ik"
   },
   "source": [
    "<p style=\"direction:rtl;text-align:right\">\n",
    "لاحظ أننا نستطيع استخدام ناتج التجميع في عمليات أخرى ولكن بعد أن نعيد تعريف كل صف من جديد باستخدام أمر reset_index كما يلي:\n",
    "</p>"
   ]
  },
  {
   "cell_type": "code",
   "execution_count": 50,
   "metadata": {
    "colab": {},
    "colab_type": "code",
    "id": "UuJ70IdXH7in",
    "outputId": "381182ef-9403-40a6-9a31-c8d7d4dbde12"
   },
   "outputs": [
    {
     "data": {
      "text/html": [
       "<div>\n",
       "<style scoped>\n",
       "    .dataframe tbody tr th:only-of-type {\n",
       "        vertical-align: middle;\n",
       "    }\n",
       "\n",
       "    .dataframe tbody tr th {\n",
       "        vertical-align: top;\n",
       "    }\n",
       "\n",
       "    .dataframe thead th {\n",
       "        text-align: right;\n",
       "    }\n",
       "</style>\n",
       "<table border=\"1\" class=\"dataframe\">\n",
       "  <thead>\n",
       "    <tr style=\"text-align: right;\">\n",
       "      <th></th>\n",
       "      <th>Year</th>\n",
       "      <th>Gender</th>\n",
       "      <th>Count</th>\n",
       "    </tr>\n",
       "  </thead>\n",
       "  <tbody>\n",
       "    <tr>\n",
       "      <th>0</th>\n",
       "      <td>1880</td>\n",
       "      <td>F</td>\n",
       "      <td>96.595541</td>\n",
       "    </tr>\n",
       "    <tr>\n",
       "      <th>1</th>\n",
       "      <td>1880</td>\n",
       "      <td>M</td>\n",
       "      <td>104.433837</td>\n",
       "    </tr>\n",
       "    <tr>\n",
       "      <th>2</th>\n",
       "      <td>1881</td>\n",
       "      <td>F</td>\n",
       "      <td>98.031983</td>\n",
       "    </tr>\n",
       "    <tr>\n",
       "      <th>3</th>\n",
       "      <td>1881</td>\n",
       "      <td>M</td>\n",
       "      <td>101.048144</td>\n",
       "    </tr>\n",
       "    <tr>\n",
       "      <th>4</th>\n",
       "      <td>1882</td>\n",
       "      <td>F</td>\n",
       "      <td>104.912451</td>\n",
       "    </tr>\n",
       "    <tr>\n",
       "      <th>5</th>\n",
       "      <td>1882</td>\n",
       "      <td>M</td>\n",
       "      <td>103.446770</td>\n",
       "    </tr>\n",
       "    <tr>\n",
       "      <th>6</th>\n",
       "      <td>1883</td>\n",
       "      <td>F</td>\n",
       "      <td>106.566414</td>\n",
       "    </tr>\n",
       "    <tr>\n",
       "      <th>7</th>\n",
       "      <td>1883</td>\n",
       "      <td>M</td>\n",
       "      <td>101.581553</td>\n",
       "    </tr>\n",
       "    <tr>\n",
       "      <th>8</th>\n",
       "      <td>1884</td>\n",
       "      <td>F</td>\n",
       "      <td>110.087031</td>\n",
       "    </tr>\n",
       "    <tr>\n",
       "      <th>9</th>\n",
       "      <td>1884</td>\n",
       "      <td>M</td>\n",
       "      <td>101.728889</td>\n",
       "    </tr>\n",
       "  </tbody>\n",
       "</table>\n",
       "</div>"
      ],
      "text/plain": [
       "   Year Gender       Count\n",
       "0  1880      F   96.595541\n",
       "1  1880      M  104.433837\n",
       "2  1881      F   98.031983\n",
       "3  1881      M  101.048144\n",
       "4  1882      F  104.912451\n",
       "5  1882      M  103.446770\n",
       "6  1883      F  106.566414\n",
       "7  1883      M  101.581553\n",
       "8  1884      F  110.087031\n",
       "9  1884      M  101.728889"
      ]
     },
     "execution_count": 50,
     "metadata": {},
     "output_type": "execute_result"
    }
   ],
   "source": [
    "babynames.groupby(['Year', 'Gender'])['Count'].mean()[:10].reset_index()"
   ]
  },
  {
   "cell_type": "markdown",
   "metadata": {
    "colab_type": "text",
    "id": "no8tXS_TH7ir"
   },
   "source": [
    "<div style=\"direction:rtl;text-align:right\">\n",
    "\n",
    "# رسم البيانات\n",
    "\n",
    "</div>"
   ]
  },
  {
   "cell_type": "markdown",
   "metadata": {
    "colab_type": "text",
    "id": "5ceLdWndH7it"
   },
   "source": [
    "<p style=\"direction:rtl;text-align:right\">\n",
    "هناك أكثر من طريقة لرسم البيانات، لكننا سنستخدم أسهل الطرق لرسم البيانات وهي باستخدام مكتبة Seaborn. فمثلاً لو أردنا رسم خطاً يمثل تصاعد اسم محمد سنقوم بالتالي:\n",
    "</p>"
   ]
  },
  {
   "cell_type": "markdown",
   "metadata": {
    "colab_type": "text",
    "id": "gWFba7jUH7iu"
   },
   "source": [
    "<p style=\"direction:rtl;text-align:right\">\n",
    "لنبدأ مثلاً برسم متوسط عدد الأسماء خلال كل عام. لعمل ذلك سنحتاج أولاً لحساب متوسط الأسماء كل عام ومن ثم رسم العام في المحور السيني ورسم المتوسط في المحور الصادي.\n",
    "</p>"
   ]
  },
  {
   "cell_type": "code",
   "execution_count": 51,
   "metadata": {
    "colab": {},
    "colab_type": "code",
    "id": "zwsAt75jH7iv"
   },
   "outputs": [],
   "source": [
    "names_count_by_year = babynames.groupby('Year')['Count'].count()"
   ]
  },
  {
   "cell_type": "code",
   "execution_count": 52,
   "metadata": {
    "colab": {},
    "colab_type": "code",
    "id": "i6y9yermH7iy",
    "outputId": "ffb5ac6d-542d-4244-c82d-dd5c8c317912"
   },
   "outputs": [
    {
     "data": {
      "text/plain": [
       "<matplotlib.axes._subplots.AxesSubplot at 0x117897160>"
      ]
     },
     "execution_count": 52,
     "metadata": {},
     "output_type": "execute_result"
    },
    {
     "data": {
      "image/png": "[encoded data removed]",
      "text/plain": [
       "<Figure size 432x288 with 1 Axes>"
      ]
     },
     "metadata": {
      "needs_background": "light"
     },
     "output_type": "display_data"
    }
   ],
   "source": [
    "names_count_by_year.plot()"
   ]
  },
  {
   "cell_type": "code",
   "execution_count": 53,
   "metadata": {
    "colab": {},
    "colab_type": "code",
    "id": "iQKbYuT3H7i4",
    "outputId": "0d18d0bd-92be-43f8-d577-36344d5a2d92",
    "scrolled": true
   },
   "outputs": [
    {
     "data": {
      "text/plain": [
       "<matplotlib.axes._subplots.AxesSubplot at 0x118681828>"
      ]
     },
     "execution_count": 53,
     "metadata": {},
     "output_type": "execute_result"
    },
    {
     "data": {
      "image/png": "[encoded data removed]",
      "text/plain": [
       "<Figure size 432x288 with 1 Axes>"
      ]
     },
     "metadata": {
      "needs_background": "light"
     },
     "output_type": "display_data"
    }
   ],
   "source": [
    "Mohammed = babynames[babynames.Name == 'Mohammed']\n",
    "sns.lineplot(x='Year', y='Count', data=Mohammed)\n",
    "#Mohammed.plot(x='Year', y='Count', kind='line')"
   ]
  },
  {
   "cell_type": "code",
   "execution_count": 54,
   "metadata": {
    "colab": {},
    "colab_type": "code",
    "id": "2ZT2l1gyH7i9",
    "outputId": "e55efecd-95f4-4b10-849f-05cb05942053"
   },
   "outputs": [
    {
     "data": {
      "text/plain": [
       "<matplotlib.axes._subplots.AxesSubplot at 0x1187bef28>"
      ]
     },
     "execution_count": 54,
     "metadata": {},
     "output_type": "execute_result"
    },
    {
     "data": {
      "image/png": "[encoded data removed]",
      "text/plain": [
       "<Figure size 432x288 with 1 Axes>"
      ]
     },
     "metadata": {
      "needs_background": "light"
     },
     "output_type": "display_data"
    }
   ],
   "source": [
    "marry = babynames[babynames.Name == 'Marry']\n",
    "marry.plot(x='Year', y='Count', kind='line')"
   ]
  },
  {
   "cell_type": "code",
   "execution_count": 55,
   "metadata": {
    "colab": {},
    "colab_type": "code",
    "id": "dA8yIWfsH7jE",
    "outputId": "b26bc5af-c73f-4079-9eca-3a068ea858a3"
   },
   "outputs": [
    {
     "data": {
      "text/plain": [
       "<matplotlib.axes._subplots.AxesSubplot at 0x1187c9898>"
      ]
     },
     "execution_count": 55,
     "metadata": {},
     "output_type": "execute_result"
    },
    {
     "data": {
      "image/png": "[encoded data removed]",
      "text/plain": [
       "<Figure size 432x288 with 1 Axes>"
      ]
     },
     "metadata": {
      "needs_background": "light"
     },
     "output_type": "display_data"
    }
   ],
   "source": [
    "osama = babynames[babynames.Name == 'Osama']\n",
    "osama.plot(x='Year', y='Count', kind='line')"
   ]
  }
 ],
 "metadata": {
  "colab": {
   "name": "Lab 2 - introduction to pandas.ipynb",
   "provenance": [],
   "version": "0.3.2"
  },
  "kernelspec": {
   "display_name": "Python 3",
   "language": "python",
   "name": "python3"
  },
  "language_info": {
   "codemirror_mode": {
    "name": "ipython",
    "version": 3
   },
   "file_extension": ".py",
   "mimetype": "text/x-python",
   "name": "python",
   "nbconvert_exporter": "python",
   "pygments_lexer": "ipython3",
   "version": "3.7.3"
  }
 },
 "nbformat": 4,
 "nbformat_minor": 1
}
